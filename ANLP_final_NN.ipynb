{
  "nbformat": 4,
  "nbformat_minor": 0,
  "metadata": {
    "colab": {
      "name": "ANLP_final_NN",
      "provenance": [],
      "collapsed_sections": [],
      "toc_visible": true
    },
    "kernelspec": {
      "display_name": "Python 3",
      "name": "python3"
    }
  },
  "cells": [
    {
      "cell_type": "code",
      "metadata": {
        "colab": {
          "base_uri": "https://localhost:8080/"
        },
        "id": "1FUlIl6lwLh6",
        "outputId": "b1118374-930a-4f8d-cb46-58be50450969"
      },
      "source": [
        "!wget -nc http://nlp.stanford.edu/data/glove.6B.zip"
      ],
      "execution_count": 1,
      "outputs": [
        {
          "output_type": "stream",
          "text": [
            "--2021-02-28 13:28:48--  http://nlp.stanford.edu/data/glove.6B.zip\n",
            "Resolving nlp.stanford.edu (nlp.stanford.edu)... 171.64.67.140\n",
            "Connecting to nlp.stanford.edu (nlp.stanford.edu)|171.64.67.140|:80... connected.\n",
            "HTTP request sent, awaiting response... 302 Found\n",
            "Location: https://nlp.stanford.edu/data/glove.6B.zip [following]\n",
            "--2021-02-28 13:28:48--  https://nlp.stanford.edu/data/glove.6B.zip\n",
            "Connecting to nlp.stanford.edu (nlp.stanford.edu)|171.64.67.140|:443... connected.\n",
            "HTTP request sent, awaiting response... 301 Moved Permanently\n",
            "Location: http://downloads.cs.stanford.edu/nlp/data/glove.6B.zip [following]\n",
            "--2021-02-28 13:28:49--  http://downloads.cs.stanford.edu/nlp/data/glove.6B.zip\n",
            "Resolving downloads.cs.stanford.edu (downloads.cs.stanford.edu)... 171.64.64.22\n",
            "Connecting to downloads.cs.stanford.edu (downloads.cs.stanford.edu)|171.64.64.22|:80... connected.\n",
            "HTTP request sent, awaiting response... 200 OK\n",
            "Length: 862182613 (822M) [application/zip]\n",
            "Saving to: ‘glove.6B.zip’\n",
            "\n",
            "glove.6B.zip        100%[===================>] 822.24M  1.94MB/s    in 6m 53s  \n",
            "\n",
            "2021-02-28 13:35:42 (1.99 MB/s) - ‘glove.6B.zip’ saved [862182613/862182613]\n",
            "\n"
          ],
          "name": "stdout"
        }
      ]
    },
    {
      "cell_type": "code",
      "metadata": {
        "colab": {
          "base_uri": "https://localhost:8080/"
        },
        "id": "hD_tF5esxxuF",
        "outputId": "8533cdf9-aefa-4c57-a629-24aad0637125"
      },
      "source": [
        "!unzip -n glove.6B.zip"
      ],
      "execution_count": 2,
      "outputs": [
        {
          "output_type": "stream",
          "text": [
            "Archive:  glove.6B.zip\n",
            "  inflating: glove.6B.50d.txt        \n",
            "  inflating: glove.6B.100d.txt       \n",
            "  inflating: glove.6B.200d.txt       \n",
            "  inflating: glove.6B.300d.txt       \n"
          ],
          "name": "stdout"
        }
      ]
    },
    {
      "cell_type": "code",
      "metadata": {
        "id": "8J4CW68dqJua"
      },
      "source": [
        "import numpy as np\n",
        "import pandas as pd\n",
        "import tensorflow as tf\n",
        "from sklearn.preprocessing import LabelEncoder\n",
        "from nltk.tokenize import word_tokenize\n",
        "import itertools\n",
        "import nltk\n",
        "import torch\n",
        "import torch.nn as nn\n",
        "import tensorflow as tf\n",
        "from tensorflow import keras\n",
        "import matplotlib.pyplot as plt\n",
        "import seaborn as sns\n",
        "from sklearn.preprocessing import StandardScaler"
      ],
      "execution_count": 15,
      "outputs": []
    },
    {
      "cell_type": "code",
      "metadata": {
        "colab": {
          "base_uri": "https://localhost:8080/"
        },
        "id": "K7UixMu3_VTm",
        "outputId": "b32d458f-94d5-46f2-bd5d-e9421d83c2eb"
      },
      "source": [
        "nltk.download('punkt')"
      ],
      "execution_count": 3,
      "outputs": [
        {
          "output_type": "stream",
          "text": [
            "[nltk_data] Downloading package punkt to /root/nltk_data...\n",
            "[nltk_data]   Package punkt is already up-to-date!\n"
          ],
          "name": "stdout"
        },
        {
          "output_type": "execute_result",
          "data": {
            "text/plain": [
              "True"
            ]
          },
          "metadata": {
            "tags": []
          },
          "execution_count": 3
        }
      ]
    },
    {
      "cell_type": "code",
      "metadata": {
        "colab": {
          "base_uri": "https://localhost:8080/",
          "height": 626
        },
        "id": "4W0OjZ83rW6Y",
        "outputId": "3c2f505d-081a-4aab-dfae-874bb43a21f0"
      },
      "source": [
        "train_path = \"/content/drive/MyDrive/anlp_final/snli_1.0_train.csv\"\n",
        "df = pd.read_csv(train_path, nrows= 10000)\n",
        "df.head()"
      ],
      "execution_count": 2,
      "outputs": [
        {
          "output_type": "execute_result",
          "data": {
            "text/html": [
              "<div>\n",
              "<style scoped>\n",
              "    .dataframe tbody tr th:only-of-type {\n",
              "        vertical-align: middle;\n",
              "    }\n",
              "\n",
              "    .dataframe tbody tr th {\n",
              "        vertical-align: top;\n",
              "    }\n",
              "\n",
              "    .dataframe thead th {\n",
              "        text-align: right;\n",
              "    }\n",
              "</style>\n",
              "<table border=\"1\" class=\"dataframe\">\n",
              "  <thead>\n",
              "    <tr style=\"text-align: right;\">\n",
              "      <th></th>\n",
              "      <th>gold_label</th>\n",
              "      <th>sentence1_binary_parse</th>\n",
              "      <th>sentence2_binary_parse</th>\n",
              "      <th>sentence1_parse</th>\n",
              "      <th>sentence2_parse</th>\n",
              "      <th>sentence1</th>\n",
              "      <th>sentence2</th>\n",
              "      <th>captionID</th>\n",
              "      <th>pairID</th>\n",
              "      <th>label1</th>\n",
              "      <th>label2</th>\n",
              "      <th>label3</th>\n",
              "      <th>label4</th>\n",
              "      <th>label5</th>\n",
              "    </tr>\n",
              "  </thead>\n",
              "  <tbody>\n",
              "    <tr>\n",
              "      <th>0</th>\n",
              "      <td>neutral</td>\n",
              "      <td>( ( ( A person ) ( on ( a horse ) ) ) ( ( jump...</td>\n",
              "      <td>( ( A person ) ( ( is ( ( training ( his horse...</td>\n",
              "      <td>(ROOT (S (NP (NP (DT A) (NN person)) (PP (IN o...</td>\n",
              "      <td>(ROOT (S (NP (DT A) (NN person)) (VP (VBZ is) ...</td>\n",
              "      <td>A person on a horse jumps over a broken down a...</td>\n",
              "      <td>A person is training his horse for a competition.</td>\n",
              "      <td>3416050480.jpg#4</td>\n",
              "      <td>3416050480.jpg#4r1n</td>\n",
              "      <td>neutral</td>\n",
              "      <td>NaN</td>\n",
              "      <td>NaN</td>\n",
              "      <td>NaN</td>\n",
              "      <td>NaN</td>\n",
              "    </tr>\n",
              "    <tr>\n",
              "      <th>1</th>\n",
              "      <td>contradiction</td>\n",
              "      <td>( ( ( A person ) ( on ( a horse ) ) ) ( ( jump...</td>\n",
              "      <td>( ( A person ) ( ( ( ( is ( at ( a diner ) ) )...</td>\n",
              "      <td>(ROOT (S (NP (NP (DT A) (NN person)) (PP (IN o...</td>\n",
              "      <td>(ROOT (S (NP (DT A) (NN person)) (VP (VBZ is) ...</td>\n",
              "      <td>A person on a horse jumps over a broken down a...</td>\n",
              "      <td>A person is at a diner, ordering an omelette.</td>\n",
              "      <td>3416050480.jpg#4</td>\n",
              "      <td>3416050480.jpg#4r1c</td>\n",
              "      <td>contradiction</td>\n",
              "      <td>NaN</td>\n",
              "      <td>NaN</td>\n",
              "      <td>NaN</td>\n",
              "      <td>NaN</td>\n",
              "    </tr>\n",
              "    <tr>\n",
              "      <th>2</th>\n",
              "      <td>entailment</td>\n",
              "      <td>( ( ( A person ) ( on ( a horse ) ) ) ( ( jump...</td>\n",
              "      <td>( ( A person ) ( ( ( ( is outdoors ) , ) ( on ...</td>\n",
              "      <td>(ROOT (S (NP (NP (DT A) (NN person)) (PP (IN o...</td>\n",
              "      <td>(ROOT (S (NP (DT A) (NN person)) (VP (VBZ is) ...</td>\n",
              "      <td>A person on a horse jumps over a broken down a...</td>\n",
              "      <td>A person is outdoors, on a horse.</td>\n",
              "      <td>3416050480.jpg#4</td>\n",
              "      <td>3416050480.jpg#4r1e</td>\n",
              "      <td>entailment</td>\n",
              "      <td>NaN</td>\n",
              "      <td>NaN</td>\n",
              "      <td>NaN</td>\n",
              "      <td>NaN</td>\n",
              "    </tr>\n",
              "    <tr>\n",
              "      <th>3</th>\n",
              "      <td>neutral</td>\n",
              "      <td>( Children ( ( ( smiling and ) waving ) ( at c...</td>\n",
              "      <td>( They ( are ( smiling ( at ( their parents ) ...</td>\n",
              "      <td>(ROOT (NP (S (NP (NNP Children)) (VP (VBG smil...</td>\n",
              "      <td>(ROOT (S (NP (PRP They)) (VP (VBP are) (VP (VB...</td>\n",
              "      <td>Children smiling and waving at camera</td>\n",
              "      <td>They are smiling at their parents</td>\n",
              "      <td>2267923837.jpg#2</td>\n",
              "      <td>2267923837.jpg#2r1n</td>\n",
              "      <td>neutral</td>\n",
              "      <td>NaN</td>\n",
              "      <td>NaN</td>\n",
              "      <td>NaN</td>\n",
              "      <td>NaN</td>\n",
              "    </tr>\n",
              "    <tr>\n",
              "      <th>4</th>\n",
              "      <td>entailment</td>\n",
              "      <td>( Children ( ( ( smiling and ) waving ) ( at c...</td>\n",
              "      <td>( There ( ( are children ) present ) )</td>\n",
              "      <td>(ROOT (NP (S (NP (NNP Children)) (VP (VBG smil...</td>\n",
              "      <td>(ROOT (S (NP (EX There)) (VP (VBP are) (NP (NN...</td>\n",
              "      <td>Children smiling and waving at camera</td>\n",
              "      <td>There are children present</td>\n",
              "      <td>2267923837.jpg#2</td>\n",
              "      <td>2267923837.jpg#2r1e</td>\n",
              "      <td>entailment</td>\n",
              "      <td>NaN</td>\n",
              "      <td>NaN</td>\n",
              "      <td>NaN</td>\n",
              "      <td>NaN</td>\n",
              "    </tr>\n",
              "  </tbody>\n",
              "</table>\n",
              "</div>"
            ],
            "text/plain": [
              "      gold_label  ... label5\n",
              "0        neutral  ...    NaN\n",
              "1  contradiction  ...    NaN\n",
              "2     entailment  ...    NaN\n",
              "3        neutral  ...    NaN\n",
              "4     entailment  ...    NaN\n",
              "\n",
              "[5 rows x 14 columns]"
            ]
          },
          "metadata": {
            "tags": []
          },
          "execution_count": 2
        }
      ]
    },
    {
      "cell_type": "code",
      "metadata": {
        "colab": {
          "base_uri": "https://localhost:8080/",
          "height": 206
        },
        "id": "qJUxNW3uuCLA",
        "outputId": "e9accf92-dad8-4382-ce84-2f35dc0fbb59"
      },
      "source": [
        "df = df[['sentence1', 'sentence2', 'gold_label']]\n",
        "df.head()"
      ],
      "execution_count": 4,
      "outputs": [
        {
          "output_type": "execute_result",
          "data": {
            "text/html": [
              "<div>\n",
              "<style scoped>\n",
              "    .dataframe tbody tr th:only-of-type {\n",
              "        vertical-align: middle;\n",
              "    }\n",
              "\n",
              "    .dataframe tbody tr th {\n",
              "        vertical-align: top;\n",
              "    }\n",
              "\n",
              "    .dataframe thead th {\n",
              "        text-align: right;\n",
              "    }\n",
              "</style>\n",
              "<table border=\"1\" class=\"dataframe\">\n",
              "  <thead>\n",
              "    <tr style=\"text-align: right;\">\n",
              "      <th></th>\n",
              "      <th>sentence1</th>\n",
              "      <th>sentence2</th>\n",
              "      <th>gold_label</th>\n",
              "    </tr>\n",
              "  </thead>\n",
              "  <tbody>\n",
              "    <tr>\n",
              "      <th>0</th>\n",
              "      <td>A person on a horse jumps over a broken down a...</td>\n",
              "      <td>A person is training his horse for a competition.</td>\n",
              "      <td>neutral</td>\n",
              "    </tr>\n",
              "    <tr>\n",
              "      <th>1</th>\n",
              "      <td>A person on a horse jumps over a broken down a...</td>\n",
              "      <td>A person is at a diner, ordering an omelette.</td>\n",
              "      <td>contradiction</td>\n",
              "    </tr>\n",
              "    <tr>\n",
              "      <th>2</th>\n",
              "      <td>A person on a horse jumps over a broken down a...</td>\n",
              "      <td>A person is outdoors, on a horse.</td>\n",
              "      <td>entailment</td>\n",
              "    </tr>\n",
              "    <tr>\n",
              "      <th>3</th>\n",
              "      <td>Children smiling and waving at camera</td>\n",
              "      <td>They are smiling at their parents</td>\n",
              "      <td>neutral</td>\n",
              "    </tr>\n",
              "    <tr>\n",
              "      <th>4</th>\n",
              "      <td>Children smiling and waving at camera</td>\n",
              "      <td>There are children present</td>\n",
              "      <td>entailment</td>\n",
              "    </tr>\n",
              "  </tbody>\n",
              "</table>\n",
              "</div>"
            ],
            "text/plain": [
              "                                           sentence1  ...     gold_label\n",
              "0  A person on a horse jumps over a broken down a...  ...        neutral\n",
              "1  A person on a horse jumps over a broken down a...  ...  contradiction\n",
              "2  A person on a horse jumps over a broken down a...  ...     entailment\n",
              "3              Children smiling and waving at camera  ...        neutral\n",
              "4              Children smiling and waving at camera  ...     entailment\n",
              "\n",
              "[5 rows x 3 columns]"
            ]
          },
          "metadata": {
            "tags": []
          },
          "execution_count": 4
        }
      ]
    },
    {
      "cell_type": "code",
      "metadata": {
        "colab": {
          "base_uri": "https://localhost:8080/"
        },
        "id": "qfB8B4EfSbsZ",
        "outputId": "55c401cc-245d-4c43-c778-e318cc632e86"
      },
      "source": [
        "df['gold_label'].value_counts()"
      ],
      "execution_count": 5,
      "outputs": [
        {
          "output_type": "execute_result",
          "data": {
            "text/plain": [
              "entailment       3336\n",
              "contradiction    3329\n",
              "neutral          3323\n",
              "-                  12\n",
              "Name: gold_label, dtype: int64"
            ]
          },
          "metadata": {
            "tags": []
          },
          "execution_count": 5
        }
      ]
    },
    {
      "cell_type": "code",
      "metadata": {
        "id": "7daXAgD4S8KP"
      },
      "source": [
        "def encode_label(df):\n",
        "  df = df[['sentence1', 'sentence2', 'gold_label']]\n",
        "  lb = LabelEncoder()\n",
        "  df = df[(df['gold_label'] == 'neutral') | (df['gold_label'] == 'contradiction') | (df['gold_label'] == 'entailment')]\n",
        "  df['labels'] = lb.fit_transform(df['gold_label'])\n",
        "  classes_names = lb.classes_\n",
        "  df.drop('gold_label', axis = 1,  inplace= True)\n",
        "  return df, classes_names"
      ],
      "execution_count": 6,
      "outputs": []
    },
    {
      "cell_type": "code",
      "metadata": {
        "id": "0sscdzinTtx0"
      },
      "source": [
        "df, classes_names = encode_label(df)"
      ],
      "execution_count": 7,
      "outputs": []
    },
    {
      "cell_type": "code",
      "metadata": {
        "colab": {
          "base_uri": "https://localhost:8080/",
          "height": 206
        },
        "id": "uyc5Hg2sT0nU",
        "outputId": "3a76938f-6686-4acc-df66-64c5192c46c9"
      },
      "source": [
        "df.head()"
      ],
      "execution_count": 8,
      "outputs": [
        {
          "output_type": "execute_result",
          "data": {
            "text/html": [
              "<div>\n",
              "<style scoped>\n",
              "    .dataframe tbody tr th:only-of-type {\n",
              "        vertical-align: middle;\n",
              "    }\n",
              "\n",
              "    .dataframe tbody tr th {\n",
              "        vertical-align: top;\n",
              "    }\n",
              "\n",
              "    .dataframe thead th {\n",
              "        text-align: right;\n",
              "    }\n",
              "</style>\n",
              "<table border=\"1\" class=\"dataframe\">\n",
              "  <thead>\n",
              "    <tr style=\"text-align: right;\">\n",
              "      <th></th>\n",
              "      <th>sentence1</th>\n",
              "      <th>sentence2</th>\n",
              "      <th>labels</th>\n",
              "    </tr>\n",
              "  </thead>\n",
              "  <tbody>\n",
              "    <tr>\n",
              "      <th>0</th>\n",
              "      <td>A person on a horse jumps over a broken down a...</td>\n",
              "      <td>A person is training his horse for a competition.</td>\n",
              "      <td>2</td>\n",
              "    </tr>\n",
              "    <tr>\n",
              "      <th>1</th>\n",
              "      <td>A person on a horse jumps over a broken down a...</td>\n",
              "      <td>A person is at a diner, ordering an omelette.</td>\n",
              "      <td>0</td>\n",
              "    </tr>\n",
              "    <tr>\n",
              "      <th>2</th>\n",
              "      <td>A person on a horse jumps over a broken down a...</td>\n",
              "      <td>A person is outdoors, on a horse.</td>\n",
              "      <td>1</td>\n",
              "    </tr>\n",
              "    <tr>\n",
              "      <th>3</th>\n",
              "      <td>Children smiling and waving at camera</td>\n",
              "      <td>They are smiling at their parents</td>\n",
              "      <td>2</td>\n",
              "    </tr>\n",
              "    <tr>\n",
              "      <th>4</th>\n",
              "      <td>Children smiling and waving at camera</td>\n",
              "      <td>There are children present</td>\n",
              "      <td>1</td>\n",
              "    </tr>\n",
              "  </tbody>\n",
              "</table>\n",
              "</div>"
            ],
            "text/plain": [
              "                                           sentence1  ... labels\n",
              "0  A person on a horse jumps over a broken down a...  ...      2\n",
              "1  A person on a horse jumps over a broken down a...  ...      0\n",
              "2  A person on a horse jumps over a broken down a...  ...      1\n",
              "3              Children smiling and waving at camera  ...      2\n",
              "4              Children smiling and waving at camera  ...      1\n",
              "\n",
              "[5 rows x 3 columns]"
            ]
          },
          "metadata": {
            "tags": []
          },
          "execution_count": 8
        }
      ]
    },
    {
      "cell_type": "code",
      "metadata": {
        "colab": {
          "base_uri": "https://localhost:8080/"
        },
        "id": "9K0i2VGDT7yD",
        "outputId": "49718ec5-8df5-40ad-d107-5881e634a1c3"
      },
      "source": [
        "classes_names"
      ],
      "execution_count": 9,
      "outputs": [
        {
          "output_type": "execute_result",
          "data": {
            "text/plain": [
              "array(['contradiction', 'entailment', 'neutral'], dtype=object)"
            ]
          },
          "metadata": {
            "tags": []
          },
          "execution_count": 9
        }
      ]
    },
    {
      "cell_type": "code",
      "metadata": {
        "colab": {
          "base_uri": "https://localhost:8080/"
        },
        "id": "H5-c54GFBSH7",
        "outputId": "ad49c19b-3ac9-40d5-ef6c-d6dea5053493"
      },
      "source": [
        "df.shape"
      ],
      "execution_count": 10,
      "outputs": [
        {
          "output_type": "execute_result",
          "data": {
            "text/plain": [
              "(9988, 3)"
            ]
          },
          "metadata": {
            "tags": []
          },
          "execution_count": 10
        }
      ]
    },
    {
      "cell_type": "markdown",
      "metadata": {
        "id": "RJ2UFl26yWmO"
      },
      "source": [
        "##Embedding Things"
      ]
    },
    {
      "cell_type": "code",
      "metadata": {
        "id": "m1eSB9NoyZNE"
      },
      "source": [
        "def Embedding_dict(path):\n",
        "  emb_dct = {}\n",
        "  with open(path) as f:\n",
        "    for line in f:\n",
        "      word, coefs = line.split(maxsplit=1)\n",
        "      coefs = np.fromstring(coefs, \"f\", sep=\" \")\n",
        "      emb_dct[word] = coefs\n",
        "  print(f\"Number of words found are {len(emb_dct)}\")\n",
        "  return emb_dct"
      ],
      "execution_count": 14,
      "outputs": []
    },
    {
      "cell_type": "code",
      "metadata": {
        "id": "uLpxydm-zq-W"
      },
      "source": [
        "def create_dataset(df, dct, func = 'sum', emb_dim = 300):\n",
        "  embedding_matrix = np.zeros((df.shape[0], 2*emb_dim))\n",
        "  hit = 0\n",
        "  miss = 0\n",
        "  for i, (s1, s2) in enumerate(zip(df['sentence1'], df['sentence2'])):\n",
        "    vec1 = []\n",
        "    vec2 = []\n",
        "    s1 = s1.lower()\n",
        "    s2 = s2.lower()\n",
        "    s1 = word_tokenize(s1)\n",
        "    s2 = word_tokenize(s2)\n",
        "    for w1, w2 in list(itertools.zip_longest(s1, s2, fillvalue='foo')):\n",
        "      if w1 != \"foo\":\n",
        "        check1 = dct.get(w1)\n",
        "        if check1 is not None:\n",
        "          vec1.append(check1)\n",
        "          hit+=1\n",
        "        else:\n",
        "          miss+=1\n",
        "        \n",
        "      if w2 != \"foo\":\n",
        "        check1 = dct.get(w2)\n",
        "        if check1 is not None:\n",
        "          vec2.append(check1)\n",
        "          hit+=1\n",
        "        else:\n",
        "          miss+=1\n",
        "    ##\n",
        "    vec1 = np.asarray(vec1)\n",
        "    vec2 = np.asarray(vec2)\n",
        "    if func == \"sum\":\n",
        "      vec1 = np.sum(vec1, axis = 0)\n",
        "      vec2 = np.sum(vec2, axis = 0)\n",
        "    if func == \"mean\":\n",
        "      vec1 = np.mean(vec1, axis = 0)\n",
        "      vec2 = np.mean(vec2, axis = 0)\n",
        "    #print(\"vec1 \", vec1.shape, \"vec2 shape \", vec2.shape, \"i is \", i)\n",
        "    embedding_matrix[i, :] = np.concatenate((vec1, vec2))\n",
        "  ##\n",
        "  print(f\"The number of hits are {hit} and the number of miss are {miss}\")\n",
        "  labels = df['labels'].values\n",
        "  return embedding_matrix, labels    "
      ],
      "execution_count": 13,
      "outputs": []
    },
    {
      "cell_type": "code",
      "metadata": {
        "id": "dttDavPwARZY"
      },
      "source": [
        "class simple_model(nn.Module):\n",
        "  def __init__(self):\n",
        "    super(simple_model, self).__init__()\n",
        "    # self.embedding_matrix = embedding_matrix\n",
        "    # self.labels = labels\n",
        "    self.fc1 = nn.Linear(600, 256)\n",
        "    self.fc2 = nn.Linear(256, 64)\n",
        "    self.relu = nn.ReLU()\n",
        "    self.fc3 = nn.Linear(64, 3)\n",
        "\n",
        "  def forward(self, embedding_matrix):\n",
        "    x = self.fc1(embedding_matrix)\n",
        "    x = self.relu(x)\n",
        "    x = self.fc2(x)\n",
        "    x = self.relu(x)\n",
        "    x = self.fc3(x)\n",
        "    return x"
      ],
      "execution_count": null,
      "outputs": []
    },
    {
      "cell_type": "code",
      "metadata": {
        "id": "hqkNZ8ZuE5zz"
      },
      "source": [
        "def train(model, embedding_matrix, labels, batch_size = 32, lr = 0.007, epochs = 4):\n",
        "  model.train()\n",
        "  criterion = nn.CrossEntropyLoss()\n",
        "  optimizer = torch.optim.Adam(model.parameters(), lr=lr) \n",
        "  #model.zero_grad()\n",
        "  for epoch in range(epochs):\n",
        "    l = 0\n",
        "    for i in range(embedding_matrix.shape[0]//batch_size):\n",
        "      optimizer.zero_grad()\n",
        "      inp = embedding_matrix[i*batch_size: (i*batch_size + batch_size), :]\n",
        "      lab = torch.from_numpy(labels[i*batch_size: (i*batch_size + batch_size)])\n",
        "      out = model(torch.from_numpy(inp).float())\n",
        "      loss = criterion(out, lab)\n",
        "      l += loss\n",
        "      loss.backward()\n",
        "      optimizer.step()\n",
        "\n",
        "      \n",
        "    if epoch%10 == 0:\n",
        "      print(\"loss is \", loss)\n",
        "      print(f\"for epoch {epoch} loss is {l}\")"
      ],
      "execution_count": null,
      "outputs": []
    },
    {
      "cell_type": "code",
      "metadata": {
        "colab": {
          "base_uri": "https://localhost:8080/"
        },
        "id": "66B_kVUW7G1f",
        "outputId": "9ac59bc0-78cd-4210-fb9e-406a63d5c1d2"
      },
      "source": [
        "dct = Embedding_dict(\"/content/glove.6B.300d.txt\")"
      ],
      "execution_count": null,
      "outputs": [
        {
          "output_type": "stream",
          "text": [
            "Number of words found are 400000\n"
          ],
          "name": "stdout"
        }
      ]
    },
    {
      "cell_type": "code",
      "metadata": {
        "colab": {
          "base_uri": "https://localhost:8080/"
        },
        "id": "it0f10nIOHjZ",
        "outputId": "4367e4c5-f40f-40df-8c0a-d7afeaeddee4"
      },
      "source": [
        "embedding_matrix, labels = create_dataset(df, dct)"
      ],
      "execution_count": null,
      "outputs": [
        {
          "output_type": "stream",
          "text": [
            "The number of hits are 231113 and the number of miss are 550\n"
          ],
          "name": "stdout"
        }
      ]
    },
    {
      "cell_type": "code",
      "metadata": {
        "id": "mLoQjMBl7SfN"
      },
      "source": [
        "model = simple_model()"
      ],
      "execution_count": null,
      "outputs": []
    },
    {
      "cell_type": "code",
      "metadata": {
        "id": "9PyHMKSRQcdw",
        "colab": {
          "base_uri": "https://localhost:8080/",
          "height": 358
        },
        "outputId": "43eaf158-ba0e-4228-9670-dd7c027fd7b0"
      },
      "source": [
        "train(model, embedding_matrix, labels, lr = 0.005, epochs = 500)"
      ],
      "execution_count": null,
      "outputs": [
        {
          "output_type": "stream",
          "text": [
            "loss is  tensor(0.9782, grad_fn=<NllLossBackward>)\n",
            "for epoch 0 loss is 316.9194641113281\n",
            "loss is  tensor(0.8092, grad_fn=<NllLossBackward>)\n",
            "for epoch 10 loss is 256.1901550292969\n"
          ],
          "name": "stdout"
        },
        {
          "output_type": "error",
          "ename": "KeyboardInterrupt",
          "evalue": "ignored",
          "traceback": [
            "\u001b[0;31m---------------------------------------------------------------------------\u001b[0m",
            "\u001b[0;31mKeyboardInterrupt\u001b[0m                         Traceback (most recent call last)",
            "\u001b[0;32m<ipython-input-22-f6906a464db5>\u001b[0m in \u001b[0;36m<module>\u001b[0;34m()\u001b[0m\n\u001b[0;32m----> 1\u001b[0;31m \u001b[0mtrain\u001b[0m\u001b[0;34m(\u001b[0m\u001b[0mmodel\u001b[0m\u001b[0;34m,\u001b[0m \u001b[0membedding_matrix\u001b[0m\u001b[0;34m,\u001b[0m \u001b[0mlabels\u001b[0m\u001b[0;34m,\u001b[0m \u001b[0mlr\u001b[0m \u001b[0;34m=\u001b[0m \u001b[0;36m0.005\u001b[0m\u001b[0;34m,\u001b[0m \u001b[0mepochs\u001b[0m \u001b[0;34m=\u001b[0m \u001b[0;36m500\u001b[0m\u001b[0;34m)\u001b[0m\u001b[0;34m\u001b[0m\u001b[0;34m\u001b[0m\u001b[0m\n\u001b[0m",
            "\u001b[0;32m<ipython-input-15-e5d7c1195e9f>\u001b[0m in \u001b[0;36mtrain\u001b[0;34m(model, embedding_matrix, labels, batch_size, lr, epochs)\u001b[0m\n\u001b[1;32m      9\u001b[0m       \u001b[0moptimizer\u001b[0m\u001b[0;34m.\u001b[0m\u001b[0mzero_grad\u001b[0m\u001b[0;34m(\u001b[0m\u001b[0;34m)\u001b[0m\u001b[0;34m\u001b[0m\u001b[0;34m\u001b[0m\u001b[0m\n\u001b[1;32m     10\u001b[0m       \u001b[0minp\u001b[0m \u001b[0;34m=\u001b[0m \u001b[0membedding_matrix\u001b[0m\u001b[0;34m[\u001b[0m\u001b[0mi\u001b[0m\u001b[0;34m*\u001b[0m\u001b[0mbatch_size\u001b[0m\u001b[0;34m:\u001b[0m \u001b[0;34m(\u001b[0m\u001b[0mi\u001b[0m\u001b[0;34m*\u001b[0m\u001b[0mbatch_size\u001b[0m \u001b[0;34m+\u001b[0m \u001b[0mbatch_size\u001b[0m\u001b[0;34m)\u001b[0m\u001b[0;34m,\u001b[0m \u001b[0;34m:\u001b[0m\u001b[0;34m]\u001b[0m\u001b[0;34m\u001b[0m\u001b[0;34m\u001b[0m\u001b[0m\n\u001b[0;32m---> 11\u001b[0;31m       \u001b[0mlab\u001b[0m \u001b[0;34m=\u001b[0m \u001b[0mtorch\u001b[0m\u001b[0;34m.\u001b[0m\u001b[0mfrom_numpy\u001b[0m\u001b[0;34m(\u001b[0m\u001b[0mlabels\u001b[0m\u001b[0;34m[\u001b[0m\u001b[0mi\u001b[0m\u001b[0;34m*\u001b[0m\u001b[0mbatch_size\u001b[0m\u001b[0;34m:\u001b[0m \u001b[0;34m(\u001b[0m\u001b[0mi\u001b[0m\u001b[0;34m*\u001b[0m\u001b[0mbatch_size\u001b[0m \u001b[0;34m+\u001b[0m \u001b[0mbatch_size\u001b[0m\u001b[0;34m)\u001b[0m\u001b[0;34m]\u001b[0m\u001b[0;34m)\u001b[0m\u001b[0;34m\u001b[0m\u001b[0;34m\u001b[0m\u001b[0m\n\u001b[0m\u001b[1;32m     12\u001b[0m       \u001b[0mout\u001b[0m \u001b[0;34m=\u001b[0m \u001b[0mmodel\u001b[0m\u001b[0;34m(\u001b[0m\u001b[0mtorch\u001b[0m\u001b[0;34m.\u001b[0m\u001b[0mfrom_numpy\u001b[0m\u001b[0;34m(\u001b[0m\u001b[0minp\u001b[0m\u001b[0;34m)\u001b[0m\u001b[0;34m.\u001b[0m\u001b[0mfloat\u001b[0m\u001b[0;34m(\u001b[0m\u001b[0;34m)\u001b[0m\u001b[0;34m)\u001b[0m\u001b[0;34m\u001b[0m\u001b[0;34m\u001b[0m\u001b[0m\n\u001b[1;32m     13\u001b[0m       \u001b[0mloss\u001b[0m \u001b[0;34m=\u001b[0m \u001b[0mcriterion\u001b[0m\u001b[0;34m(\u001b[0m\u001b[0mout\u001b[0m\u001b[0;34m,\u001b[0m \u001b[0mlab\u001b[0m\u001b[0;34m)\u001b[0m\u001b[0;34m\u001b[0m\u001b[0;34m\u001b[0m\u001b[0m\n",
            "\u001b[0;31mKeyboardInterrupt\u001b[0m: "
          ]
        }
      ]
    },
    {
      "cell_type": "code",
      "metadata": {
        "id": "7y_ZQPCQMHua"
      },
      "source": [
        "ypredt = model(torch.from_numpy(embedding_matrix).float())"
      ],
      "execution_count": null,
      "outputs": []
    },
    {
      "cell_type": "code",
      "metadata": {
        "id": "s3fVYP49MU5u"
      },
      "source": [
        "ypredt = torch.argmax(ypredt, dim = 1).numpy()"
      ],
      "execution_count": null,
      "outputs": []
    },
    {
      "cell_type": "code",
      "metadata": {
        "colab": {
          "base_uri": "https://localhost:8080/"
        },
        "id": "LonTkVoJMiQg",
        "outputId": "8a72f1ab-5459-4225-8c49-6a0116c6c1a1"
      },
      "source": [
        "labels"
      ],
      "execution_count": null,
      "outputs": [
        {
          "output_type": "execute_result",
          "data": {
            "text/plain": [
              "array([2, 1, 0, ..., 1, 0, 2])"
            ]
          },
          "metadata": {
            "tags": []
          },
          "execution_count": 210
        }
      ]
    },
    {
      "cell_type": "code",
      "metadata": {
        "colab": {
          "base_uri": "https://localhost:8080/"
        },
        "id": "k9gUkFuwMj5k",
        "outputId": "8467974b-2b39-46a2-b613-e0c8a12757ee"
      },
      "source": [
        "ypredt == labels"
      ],
      "execution_count": null,
      "outputs": [
        {
          "output_type": "execute_result",
          "data": {
            "text/plain": [
              "array([ True,  True,  True, ...,  True, False,  True])"
            ]
          },
          "metadata": {
            "tags": []
          },
          "execution_count": 211
        }
      ]
    },
    {
      "cell_type": "code",
      "metadata": {
        "colab": {
          "base_uri": "https://localhost:8080/"
        },
        "id": "LMyyijiHMcyR",
        "outputId": "52d6feeb-10fa-4af3-ce44-fe85ffe71375"
      },
      "source": [
        "np.sum(ypredt == labels)/len(ypredt)"
      ],
      "execution_count": null,
      "outputs": [
        {
          "output_type": "execute_result",
          "data": {
            "text/plain": [
              "0.8984962406015038"
            ]
          },
          "metadata": {
            "tags": []
          },
          "execution_count": 212
        }
      ]
    },
    {
      "cell_type": "code",
      "metadata": {
        "id": "FJbGvisJD7AP"
      },
      "source": [
        "df_test = pd.read_csv(\"/content/drive/MyDrive/anlp_final/snli_1.0_test.csv\")\n",
        "df_test, class_test = encode_label(df_test)"
      ],
      "execution_count": null,
      "outputs": []
    },
    {
      "cell_type": "code",
      "metadata": {
        "colab": {
          "base_uri": "https://localhost:8080/",
          "height": 206
        },
        "id": "7CT03ru6KmQF",
        "outputId": "7a1d5d18-af9b-403d-8860-e86e1de5025f"
      },
      "source": [
        "df_test.head()"
      ],
      "execution_count": null,
      "outputs": [
        {
          "output_type": "execute_result",
          "data": {
            "text/html": [
              "<div>\n",
              "<style scoped>\n",
              "    .dataframe tbody tr th:only-of-type {\n",
              "        vertical-align: middle;\n",
              "    }\n",
              "\n",
              "    .dataframe tbody tr th {\n",
              "        vertical-align: top;\n",
              "    }\n",
              "\n",
              "    .dataframe thead th {\n",
              "        text-align: right;\n",
              "    }\n",
              "</style>\n",
              "<table border=\"1\" class=\"dataframe\">\n",
              "  <thead>\n",
              "    <tr style=\"text-align: right;\">\n",
              "      <th></th>\n",
              "      <th>sentence1</th>\n",
              "      <th>sentence2</th>\n",
              "      <th>labels</th>\n",
              "    </tr>\n",
              "  </thead>\n",
              "  <tbody>\n",
              "    <tr>\n",
              "      <th>0</th>\n",
              "      <td>This church choir sings to the masses as they ...</td>\n",
              "      <td>The church has cracks in the ceiling.</td>\n",
              "      <td>2</td>\n",
              "    </tr>\n",
              "    <tr>\n",
              "      <th>1</th>\n",
              "      <td>This church choir sings to the masses as they ...</td>\n",
              "      <td>The church is filled with song.</td>\n",
              "      <td>1</td>\n",
              "    </tr>\n",
              "    <tr>\n",
              "      <th>2</th>\n",
              "      <td>This church choir sings to the masses as they ...</td>\n",
              "      <td>A choir singing at a baseball game.</td>\n",
              "      <td>0</td>\n",
              "    </tr>\n",
              "    <tr>\n",
              "      <th>3</th>\n",
              "      <td>A woman with a green headscarf, blue shirt and...</td>\n",
              "      <td>The woman is young.</td>\n",
              "      <td>2</td>\n",
              "    </tr>\n",
              "    <tr>\n",
              "      <th>4</th>\n",
              "      <td>A woman with a green headscarf, blue shirt and...</td>\n",
              "      <td>The woman is very happy.</td>\n",
              "      <td>1</td>\n",
              "    </tr>\n",
              "  </tbody>\n",
              "</table>\n",
              "</div>"
            ],
            "text/plain": [
              "                                           sentence1  ... labels\n",
              "0  This church choir sings to the masses as they ...  ...      2\n",
              "1  This church choir sings to the masses as they ...  ...      1\n",
              "2  This church choir sings to the masses as they ...  ...      0\n",
              "3  A woman with a green headscarf, blue shirt and...  ...      2\n",
              "4  A woman with a green headscarf, blue shirt and...  ...      1\n",
              "\n",
              "[5 rows x 3 columns]"
            ]
          },
          "metadata": {
            "tags": []
          },
          "execution_count": 31
        }
      ]
    },
    {
      "cell_type": "code",
      "metadata": {
        "colab": {
          "base_uri": "https://localhost:8080/"
        },
        "id": "YBktKVC_D1wO",
        "outputId": "24a04bf4-0965-40f6-9397-1bc1e4fff563"
      },
      "source": [
        "xte, yte = create_dataset(df_test, dct)"
      ],
      "execution_count": null,
      "outputs": [
        {
          "output_type": "stream",
          "text": [
            "The number of hits are 229983 and the number of miss are 598\n"
          ],
          "name": "stdout"
        }
      ]
    },
    {
      "cell_type": "code",
      "metadata": {
        "colab": {
          "base_uri": "https://localhost:8080/"
        },
        "id": "dtjMJmu2KKbO",
        "outputId": "2f0013be-fe52-4548-aff7-7d275877ee5d"
      },
      "source": [
        "xte[:5,:]"
      ],
      "execution_count": null,
      "outputs": [
        {
          "output_type": "execute_result",
          "data": {
            "text/plain": [
              "array([[-5.13825274, -1.14646089, -2.48438668, ..., -1.49156785,\n",
              "        -0.68954498,  0.13984601],\n",
              "       [-5.13825274, -1.14646089, -2.48438668, ..., -0.68161893,\n",
              "        -1.6593082 , -0.36632299],\n",
              "       [-5.13825274, -1.14646089, -2.48438668, ..., -0.93746603,\n",
              "        -1.24169397,  0.06316002],\n",
              "       [-2.2857213 , -0.36229506,  0.77572596, ...,  0.1158911 ,\n",
              "        -1.12795997,  0.78471696],\n",
              "       [-2.2857213 , -0.36229506,  0.77572596, ..., -0.4090839 ,\n",
              "        -0.66159904,  1.14149594]])"
            ]
          },
          "metadata": {
            "tags": []
          },
          "execution_count": 192
        }
      ]
    },
    {
      "cell_type": "code",
      "metadata": {
        "id": "zWY0AxQHIyte"
      },
      "source": [
        "xte = torch.from_numpy(xte).float()\n",
        "yte =  torch.from_numpy(yte)"
      ],
      "execution_count": null,
      "outputs": []
    },
    {
      "cell_type": "code",
      "metadata": {
        "id": "tHoXczpgH4-L"
      },
      "source": [
        "ypred = model(xte)"
      ],
      "execution_count": null,
      "outputs": []
    },
    {
      "cell_type": "code",
      "metadata": {
        "colab": {
          "base_uri": "https://localhost:8080/"
        },
        "id": "ZOLjwlamKAqO",
        "outputId": "b2297850-5572-45e3-84d1-b1b2c32cdfb1"
      },
      "source": [
        "ypred[-10:,:]"
      ],
      "execution_count": null,
      "outputs": [
        {
          "output_type": "execute_result",
          "data": {
            "text/plain": [
              "tensor([[ 4.3126e+01,  7.0347e+01, -1.0076e+01],\n",
              "        [-1.0572e+01,  2.7790e+01,  1.8030e+01],\n",
              "        [-1.9625e+00,  5.8161e+00,  2.8308e+00],\n",
              "        [ 9.4442e-02,  5.6617e-01, -8.0060e-01],\n",
              "        [ 1.4751e+00,  1.1778e-01,  1.1701e+00],\n",
              "        [ 3.4894e+01,  3.0397e+01, -6.7366e+00],\n",
              "        [ 4.0253e+00,  5.8051e+00, -2.0695e+00],\n",
              "        [ 2.6350e+02,  4.5084e+01,  8.0810e+01],\n",
              "        [ 6.1699e+00,  1.8057e+01,  5.8050e+00],\n",
              "        [-6.3174e+00, -2.1244e+01,  4.0846e+01]], grad_fn=<SliceBackward>)"
            ]
          },
          "metadata": {
            "tags": []
          },
          "execution_count": 195
        }
      ]
    },
    {
      "cell_type": "code",
      "metadata": {
        "id": "RpQt_GNeJCQq"
      },
      "source": [
        "ypred = torch.argmax(ypred, dim = 1)"
      ],
      "execution_count": null,
      "outputs": []
    },
    {
      "cell_type": "code",
      "metadata": {
        "id": "s7q_2LhEqgoH"
      },
      "source": [
        "ypred = ypred.numpy()"
      ],
      "execution_count": null,
      "outputs": []
    },
    {
      "cell_type": "code",
      "metadata": {
        "id": "Lf8SIiOHJxoH"
      },
      "source": [
        "yte = yte.numpy()"
      ],
      "execution_count": null,
      "outputs": []
    },
    {
      "cell_type": "code",
      "metadata": {
        "colab": {
          "base_uri": "https://localhost:8080/"
        },
        "id": "-J3M3tEVJ9y7",
        "outputId": "d256cbd0-11da-441b-c92d-bda12f1bed5a"
      },
      "source": [
        "np.sum(ypred == yte)/len(yte)"
      ],
      "execution_count": null,
      "outputs": [
        {
          "output_type": "execute_result",
          "data": {
            "text/plain": [
              "0.5315553745928339"
            ]
          },
          "metadata": {
            "tags": []
          },
          "execution_count": 207
        }
      ]
    },
    {
      "cell_type": "markdown",
      "metadata": {
        "id": "iDnJW6eXmT4t"
      },
      "source": [
        "## LSTM"
      ]
    },
    {
      "cell_type": "code",
      "metadata": {
        "id": "VOKjLhDhmVTZ"
      },
      "source": [
        "def create_dataset_for_sequence(df, dct, emb_dim = 300, seq_len = 20):\n",
        "  sequence_matrix = np.zeros((df.shape[0], seq_len*2 ,emb_dim))\n",
        "  hit = 0\n",
        "  miss = 0\n",
        "  for i, (s1, s2) in enumerate(zip(df['sentence1'], df['sentence2'])):\n",
        "    vec1 = np.zeros((seq_len, emb_dim))\n",
        "    vec2 = np.zeros((seq_len, emb_dim))\n",
        "    print(i)\n",
        "    s1 = s1.lower()\n",
        "    s2 = s2.lower()\n",
        "    s1 = word_tokenize(s1)\n",
        "    s2 = word_tokenize(s2)\n",
        "    for j, (w1, w2) in enumerate(list(itertools.zip_longest(s1, s2, fillvalue='foo'))):\n",
        "      if j>= seq_len:\n",
        "        break\n",
        "      if w1 != \"foo\":\n",
        "        check1 = dct.get(w1)\n",
        "        if check1 is not None:\n",
        "          vec1[j, :] = check1\n",
        "          hit+=1\n",
        "        else:\n",
        "          miss+=1\n",
        "        \n",
        "      if w2 != \"foo\":\n",
        "        check1 = dct.get(w2)\n",
        "        if check1 is not None:\n",
        "          vec2[j, :] = check1\n",
        "          hit+=1\n",
        "        else:\n",
        "          miss+=1\n",
        "\n",
        "    sequence_matrix[i, :, :] = np.concatenate((vec1, vec2))\n",
        "  ##\n",
        "  print(f\"The number of hits are {hit} and the number of miss are {miss}\")\n",
        "  labels = df['labels'].values\n",
        "  return sequence_matrix, labels    "
      ],
      "execution_count": 19,
      "outputs": []
    },
    {
      "cell_type": "code",
      "metadata": {
        "id": "tNvj9omv0ujx"
      },
      "source": [
        "class Mylstm(nn.Module):\n",
        "  def __init__(self, batch_size, hidden_size, num_classes, num_layers, embedding_dim):\n",
        "    super(Mylstm, self).__init__()\n",
        "    self.batch_size = batch_size\n",
        "    self.hidden_size = hidden_size\n",
        "    self.num_classes = num_classes\n",
        "    self.num_layers = num_layers\n",
        "    self.embedding_dim = embedding_dim\n",
        "    self.lstm = nn.LSTM(input_size= self.embedding_dim, hidden_size= self.hidden_size, num_layers = self.num_layers, batch_first = True)\n",
        "    self.fc = nn.Linear(self.hidden_size, self.num_classes)\n",
        "    \n",
        "\n",
        "  # def forward(self, x):\n",
        "  #   out, (self.h0, self.c0) = self.lstm(x, (self.h0, self.c0))\n",
        "  #   out = self.fc(out[:,-1,:])\n",
        "  #   return out\n",
        "\n",
        "\n",
        "  def forward(self, x):\n",
        "    out, (self.h0, self.c0) = self.lstm(x, (self.h0, self.c0))\n",
        "    # out = out.contiguous().view(-1, self.hidden_size)\n",
        "    tmp = out.clone()\n",
        "    tmp = out[:, -1, :]\n",
        "    #out = out[:,-1,:]\n",
        "    #out = out.reshape(out.size(0)*out.size(1), out.size(2))\n",
        "    out = self.fc(tmp)\n",
        "    return out\n",
        "\n",
        "  \n",
        "  def init_hidden(self):\n",
        "    self.h0 = torch.rand(1, self.batch_size, self.hidden_size)\n",
        "    self.c0 = torch.rand(1, self.batch_size, self.hidden_size)\n"
      ],
      "execution_count": null,
      "outputs": []
    },
    {
      "cell_type": "code",
      "metadata": {
        "id": "Ox_Oldf404eE"
      },
      "source": [
        "def train_lstm(model, seq, labels, seq_val = None, labels_val = None, epochs = 10, lr = 0.005, batch_size = 461, hidden_size = 2):\n",
        "  criterion = nn.CrossEntropyLoss()\n",
        "  optimizer = torch.optim.Adam(model.parameters(), lr= lr)\n",
        "\n",
        "  overall_loss = []\n",
        "  for epoch in range(epochs):\n",
        "    model.init_hidden()\n",
        "    l = []\n",
        "    for i in range(batch_size, seq.shape[0], batch_size):\n",
        "      xtrain = seq[i-batch_size: i,:,:]\n",
        "      target = labels[i-batch_size: i]\n",
        "      model.train()\n",
        "      out= model(xtrain)\n",
        "      loss = criterion(out, target)\n",
        "      optimizer.zero_grad()\n",
        "      l.append(loss)\n",
        "      loss.backward(retain_graph=True)\n",
        "      optimizer.step()\n",
        "      #print(\"LOSS : \", sum(l).item())\n",
        "    print(\"This LOSS goes down : \", sum(l).item())\n",
        "\n",
        "    if type(seq_val) != None:\n",
        "\n",
        "      with torch.no_grad():\n",
        "        for i in range(batch_size, seq.shape[0], batch_size):\n",
        "          xtest = seq_val[i-batch_size: i,:,:]\n",
        "          target_test = labels_val[i-batch_size: i]\n",
        "          out_test = model(xtest)\n",
        "          print(\"out test shape \", out_test.shape)\n",
        "          print(\"labels shape \", target_test.shape)\n",
        "          loss_test = criterion(out_test, target_test)\n",
        "          print(\"validation loss ....\")\n",
        "          print(loss_test.item())\n",
        "\n",
        "    # if epoch%10 == 0:\n",
        "    #   print(\"loss is \", sum(l).item())\n",
        "    # overall_loss += l"
      ],
      "execution_count": null,
      "outputs": []
    },
    {
      "cell_type": "code",
      "metadata": {
        "id": "JxtMzZMxCTUS"
      },
      "source": [
        "## initializing variables\n",
        "\n",
        "batch_size = 32\n",
        "hidden_size = 128\n",
        "num_classes = 3\n",
        "num_layers = 1\n",
        "embedding_dim = 300\n",
        "lr = 0.005\n",
        "epochs = 100"
      ],
      "execution_count": null,
      "outputs": []
    },
    {
      "cell_type": "code",
      "metadata": {
        "colab": {
          "base_uri": "https://localhost:8080/"
        },
        "id": "ykam_U3M8MZW",
        "outputId": "9e01e40b-9799-4735-a162-13b7f4de7a04"
      },
      "source": [
        "# dct = Embedding_dict(\"/content/glove.6B.300d.txt\")"
      ],
      "execution_count": null,
      "outputs": [
        {
          "output_type": "stream",
          "text": [
            "Number of words found are 400000\n"
          ],
          "name": "stdout"
        }
      ]
    },
    {
      "cell_type": "code",
      "metadata": {
        "colab": {
          "base_uri": "https://localhost:8080/"
        },
        "id": "QQhgUIkY8OFY",
        "outputId": "3d88b3d6-836d-4ca8-ce96-356181935cc1"
      },
      "source": [
        "embedding_matrix, label = create_dataset_for_sequence(df, dct, emb_dim = embedding_dim)"
      ],
      "execution_count": null,
      "outputs": [
        {
          "output_type": "stream",
          "text": [
            "The number of hits are 220037 and the number of miss are 514\n"
          ],
          "name": "stdout"
        }
      ]
    },
    {
      "cell_type": "code",
      "metadata": {
        "id": "sLgy5M0JSsbH"
      },
      "source": [
        "df_test = embedding_matrix[:100, :, :]\n",
        "label_train = label[:100]"
      ],
      "execution_count": null,
      "outputs": []
    },
    {
      "cell_type": "code",
      "metadata": {
        "id": "vGmOFppfdtek"
      },
      "source": [
        "df_val = embedding_matrix[100:200, :, :]\n",
        "label_val = label[100:200]"
      ],
      "execution_count": null,
      "outputs": []
    },
    {
      "cell_type": "code",
      "metadata": {
        "id": "_iBNHvJc87J2"
      },
      "source": [
        "df_test = torch.tensor(df_test).float()\n",
        "label = torch.tensor(label).type(torch.LongTensor)"
      ],
      "execution_count": null,
      "outputs": []
    },
    {
      "cell_type": "code",
      "metadata": {
        "id": "uvbZgAFjd25W"
      },
      "source": [
        "df_val = torch.tensor(df_val).float()\n",
        "label_val = torch.tensor(label_val).type(torch.LongTensor)"
      ],
      "execution_count": null,
      "outputs": []
    },
    {
      "cell_type": "code",
      "metadata": {
        "id": "TIZdIQr6bSNA"
      },
      "source": [
        "# df_test = torch.tensor(embedding_matrix).float()\n",
        "# label = torch.tensor(label).type(torch.LongTensor)"
      ],
      "execution_count": null,
      "outputs": []
    },
    {
      "cell_type": "code",
      "metadata": {
        "id": "UqU1w1Wh89de"
      },
      "source": [
        "model = Mylstm(batch_size= batch_size, hidden_size= hidden_size, num_classes= num_classes, num_layers= num_layers, embedding_dim= embedding_dim)"
      ],
      "execution_count": null,
      "outputs": []
    },
    {
      "cell_type": "code",
      "metadata": {
        "id": "HRTKJgi99QeA"
      },
      "source": [
        "train_lstm(model, df_test, label_train, df_val, label_val, batch_size= batch_size, lr = 0.005, epochs= epochs)"
      ],
      "execution_count": null,
      "outputs": []
    },
    {
      "cell_type": "markdown",
      "metadata": {
        "id": "-s9ay7jXTfjZ"
      },
      "source": [
        "## Keras"
      ]
    },
    {
      "cell_type": "code",
      "metadata": {
        "id": "2QhcHgbA7wri"
      },
      "source": [
        "def Embedding_dict(path):\n",
        "  emb_dct = {}\n",
        "  with open(path) as f:\n",
        "    for line in f:\n",
        "      word, coefs = line.split(maxsplit=1)\n",
        "      coefs = np.fromstring(coefs, \"f\", sep=\" \")\n",
        "      emb_dct[word] = coefs\n",
        "  print(f\"Number of words found are {len(emb_dct)}\")\n",
        "  return emb_dct"
      ],
      "execution_count": 47,
      "outputs": []
    },
    {
      "cell_type": "code",
      "metadata": {
        "id": "qstz-sYD4eKv"
      },
      "source": [
        "def create_dataset_for_sequence(df, dct, emb_dim = 300, seq_len = 20):\n",
        "  sequence_matrix = np.zeros((df.shape[0], seq_len*2 ,emb_dim))\n",
        "  hit = 0\n",
        "  miss = 0\n",
        "  for i, (s1, s2) in enumerate(zip(df['sentence1'], df['sentence2'])):\n",
        "    vec1 = np.zeros((seq_len, emb_dim))\n",
        "    vec2 = np.zeros((seq_len, emb_dim))\n",
        "    if isinstance(s1, str) == False:\n",
        "      continue\n",
        "    if isinstance(s2, str) == False:\n",
        "      continue\n",
        "    s1 = s1.lower()\n",
        "    s2 = s2.lower()\n",
        "    s1 = word_tokenize(s1)\n",
        "    s2 = word_tokenize(s2)\n",
        "    for j, (w1, w2) in enumerate(list(itertools.zip_longest(s1, s2, fillvalue='foo'))):\n",
        "      if j>= seq_len:\n",
        "        break\n",
        "      if w1 != \"foo\":\n",
        "        check1 = dct.get(w1)\n",
        "        if check1 is not None:\n",
        "          vec1[j, :] = check1\n",
        "          hit+=1\n",
        "        else:\n",
        "          miss+=1\n",
        "        \n",
        "      if w2 != \"foo\":\n",
        "        check1 = dct.get(w2)\n",
        "        if check1 is not None:\n",
        "          vec2[j, :] = check1\n",
        "          hit+=1\n",
        "        else:\n",
        "          miss+=1\n",
        "\n",
        "    sequence_matrix[i, :, :] = np.concatenate((vec1, vec2))\n",
        "  ##\n",
        "  print(f\"The number of hits are {hit} and the number of miss are {miss}\")\n",
        "  labels = df['labels'].values\n",
        "  return sequence_matrix, labels    "
      ],
      "execution_count": 48,
      "outputs": []
    },
    {
      "cell_type": "code",
      "metadata": {
        "id": "E6Cgs9YyT3uR"
      },
      "source": [
        "## initializing variables\n",
        "\n",
        "batch_size = 32\n",
        "hidden_size = 128\n",
        "num_classes = 3\n",
        "num_layers = 1\n",
        "embedding_dim = 300\n",
        "lr = 0.005\n",
        "epochs = 10\n",
        "sentence_len = 20\n",
        "epoch = 10\n",
        "drop_out = 0.2"
      ],
      "execution_count": 103,
      "outputs": []
    },
    {
      "cell_type": "code",
      "metadata": {
        "colab": {
          "base_uri": "https://localhost:8080/"
        },
        "id": "oHpqyplS3kka",
        "outputId": "8fdac3fe-35af-4c14-a9e4-6e524d510d99"
      },
      "source": [
        "dct = Embedding_dict(\"/content/glove.6B.300d.txt\")"
      ],
      "execution_count": 14,
      "outputs": [
        {
          "output_type": "stream",
          "text": [
            "Number of words found are 400000\n"
          ],
          "name": "stdout"
        }
      ]
    },
    {
      "cell_type": "code",
      "metadata": {
        "colab": {
          "base_uri": "https://localhost:8080/"
        },
        "id": "s3KHAdUzT1xE",
        "outputId": "3c574eea-7607-40bd-bb0c-f558e95f0059"
      },
      "source": [
        "embedding_matrix, label = create_dataset_for_sequence(df, dct, emb_dim = embedding_dim, seq_len= sentence_len)"
      ],
      "execution_count": 85,
      "outputs": [
        {
          "output_type": "stream",
          "text": [
            "The number of hits are 213651 and the number of miss are 462\n"
          ],
          "name": "stdout"
        }
      ]
    },
    {
      "cell_type": "code",
      "metadata": {
        "colab": {
          "base_uri": "https://localhost:8080/"
        },
        "id": "_GLZy-UhT47M",
        "outputId": "ad30e86b-7d60-429d-d106-95387ef6afce"
      },
      "source": [
        "embedding_matrix.shape"
      ],
      "execution_count": 86,
      "outputs": [
        {
          "output_type": "execute_result",
          "data": {
            "text/plain": [
              "(9988, 40, 300)"
            ]
          },
          "metadata": {
            "tags": []
          },
          "execution_count": 86
        }
      ]
    },
    {
      "cell_type": "code",
      "metadata": {
        "id": "o2UH9roNUeeo"
      },
      "source": [
        "from keras import Input\n",
        "from keras.layers import Dense, LSTM, Dropout"
      ],
      "execution_count": 52,
      "outputs": []
    },
    {
      "cell_type": "code",
      "metadata": {
        "id": "k8IS1QGfO-Ii"
      },
      "source": [
        "inp = Input(shape = (sentence_len*2, embedding_dim))\n",
        "lstm = LSTM(hidden_size)(inp)\n",
        "#do = Dropout(drop_out)(lstm)\n",
        "fc = Dense(num_classes)(lstm)\n",
        "model = tf.keras.Model(inputs = inp, outputs = fc)"
      ],
      "execution_count": 90,
      "outputs": []
    },
    {
      "cell_type": "code",
      "metadata": {
        "colab": {
          "base_uri": "https://localhost:8080/"
        },
        "id": "IHq4Gk4DUbql",
        "outputId": "df01f63f-dc42-4624-95b0-3733e9a716e5"
      },
      "source": [
        "model.summary()"
      ],
      "execution_count": 91,
      "outputs": [
        {
          "output_type": "stream",
          "text": [
            "Model: \"model_9\"\n",
            "_________________________________________________________________\n",
            "Layer (type)                 Output Shape              Param #   \n",
            "=================================================================\n",
            "input_10 (InputLayer)        [(None, 40, 300)]         0         \n",
            "_________________________________________________________________\n",
            "lstm_9 (LSTM)                (None, 128)               219648    \n",
            "_________________________________________________________________\n",
            "dense_9 (Dense)              (None, 3)                 387       \n",
            "=================================================================\n",
            "Total params: 220,035\n",
            "Trainable params: 220,035\n",
            "Non-trainable params: 0\n",
            "_________________________________________________________________\n"
          ],
          "name": "stdout"
        }
      ]
    },
    {
      "cell_type": "markdown",
      "metadata": {
        "id": "WeUpM_DZC6UG"
      },
      "source": [
        "#### Loading Validation Set"
      ]
    },
    {
      "cell_type": "code",
      "metadata": {
        "id": "MLEI6G8dC80v"
      },
      "source": [
        "val_path = \"/content/drive/MyDrive/anlp_final/snli_1.0_dev.csv\"\n",
        "df_val = pd.read_csv(val_path)"
      ],
      "execution_count": 87,
      "outputs": []
    },
    {
      "cell_type": "code",
      "metadata": {
        "id": "2LvtIpa5FF4s"
      },
      "source": [
        "df_val, _ = encode_label(df_val)"
      ],
      "execution_count": 88,
      "outputs": []
    },
    {
      "cell_type": "code",
      "metadata": {
        "colab": {
          "base_uri": "https://localhost:8080/"
        },
        "id": "pcF9J9nPDMNj",
        "outputId": "fed95906-912c-42de-cf22-06257914d5d8"
      },
      "source": [
        "val_matrix, val_label = create_dataset_for_sequence(df_val, dct)"
      ],
      "execution_count": 89,
      "outputs": [
        {
          "output_type": "stream",
          "text": [
            "The number of hits are 220037 and the number of miss are 514\n"
          ],
          "name": "stdout"
        }
      ]
    },
    {
      "cell_type": "markdown",
      "metadata": {
        "id": "2DTlZL0XC9Yd"
      },
      "source": [
        "#### Compiling the Model"
      ]
    },
    {
      "cell_type": "code",
      "metadata": {
        "id": "PbbewCvRRChw"
      },
      "source": [
        "model.compile(optimizer = 'Adam', loss = tf.keras.losses.SparseCategoricalCrossentropy(from_logits= True), metrics = ['accuracy'])"
      ],
      "execution_count": 92,
      "outputs": []
    },
    {
      "cell_type": "code",
      "metadata": {
        "colab": {
          "base_uri": "https://localhost:8080/"
        },
        "id": "AJIxvlYsUnh_",
        "outputId": "b90f6b89-cf04-4cb0-d13d-5cb844ebfce0"
      },
      "source": [
        "model.fit(embedding_matrix, label, epochs= epoch, batch_size= batch_size, validation_data=(val_matrix, val_label))"
      ],
      "execution_count": 93,
      "outputs": [
        {
          "output_type": "stream",
          "text": [
            "Epoch 1/10\n",
            "313/313 [==============================] - 33s 100ms/step - loss: 1.0513 - accuracy: 0.4307 - val_loss: 0.9453 - val_accuracy: 0.5484\n",
            "Epoch 2/10\n",
            "313/313 [==============================] - 31s 98ms/step - loss: 0.9107 - accuracy: 0.5765 - val_loss: 0.9117 - val_accuracy: 0.5719\n",
            "Epoch 3/10\n",
            "313/313 [==============================] - 31s 99ms/step - loss: 0.8531 - accuracy: 0.6095 - val_loss: 0.8994 - val_accuracy: 0.5806\n",
            "Epoch 4/10\n",
            "313/313 [==============================] - 34s 109ms/step - loss: 0.7992 - accuracy: 0.6390 - val_loss: 0.8900 - val_accuracy: 0.5947\n",
            "Epoch 5/10\n",
            "313/313 [==============================] - 31s 98ms/step - loss: 0.7406 - accuracy: 0.6746 - val_loss: 0.9039 - val_accuracy: 0.5894\n",
            "Epoch 6/10\n",
            "313/313 [==============================] - 31s 98ms/step - loss: 0.6838 - accuracy: 0.7118 - val_loss: 0.8939 - val_accuracy: 0.5964\n",
            "Epoch 7/10\n",
            "313/313 [==============================] - 31s 98ms/step - loss: 0.6349 - accuracy: 0.7381 - val_loss: 0.9145 - val_accuracy: 0.5997\n",
            "Epoch 8/10\n",
            "313/313 [==============================] - 31s 98ms/step - loss: 0.5724 - accuracy: 0.7671 - val_loss: 0.9854 - val_accuracy: 0.6024\n",
            "Epoch 9/10\n",
            "313/313 [==============================] - 31s 99ms/step - loss: 0.5111 - accuracy: 0.7992 - val_loss: 1.0017 - val_accuracy: 0.5996\n",
            "Epoch 10/10\n",
            "313/313 [==============================] - 31s 99ms/step - loss: 0.4358 - accuracy: 0.8307 - val_loss: 1.1333 - val_accuracy: 0.5794\n"
          ],
          "name": "stdout"
        },
        {
          "output_type": "execute_result",
          "data": {
            "text/plain": [
              "<tensorflow.python.keras.callbacks.History at 0x7fbb501bb650>"
            ]
          },
          "metadata": {
            "tags": []
          },
          "execution_count": 93
        }
      ]
    },
    {
      "cell_type": "code",
      "metadata": {
        "colab": {
          "base_uri": "https://localhost:8080/"
        },
        "id": "005iiCIEsFCP",
        "outputId": "4a15887b-7f17-4021-c4e4-f74ee9f8c4b4"
      },
      "source": [
        "model.fit(embedding_matrix, label, epochs= epoch, batch_size= batch_size, validation_data=(val_matrix, val_label))"
      ],
      "execution_count": 94,
      "outputs": [
        {
          "output_type": "stream",
          "text": [
            "Epoch 1/10\n",
            "313/313 [==============================] - 32s 101ms/step - loss: 0.3946 - accuracy: 0.8501 - val_loss: 1.1808 - val_accuracy: 0.5894\n",
            "Epoch 2/10\n",
            "313/313 [==============================] - 31s 98ms/step - loss: 0.3401 - accuracy: 0.8718 - val_loss: 1.2114 - val_accuracy: 0.5874\n",
            "Epoch 3/10\n",
            "313/313 [==============================] - 31s 101ms/step - loss: 0.2962 - accuracy: 0.8926 - val_loss: 1.4616 - val_accuracy: 0.5884\n",
            "Epoch 4/10\n",
            "313/313 [==============================] - 31s 98ms/step - loss: 0.2489 - accuracy: 0.9102 - val_loss: 1.3179 - val_accuracy: 0.5910\n",
            "Epoch 5/10\n",
            "313/313 [==============================] - 31s 99ms/step - loss: 0.2214 - accuracy: 0.9199 - val_loss: 1.5282 - val_accuracy: 0.5867\n",
            "Epoch 6/10\n",
            "313/313 [==============================] - 31s 98ms/step - loss: 0.1915 - accuracy: 0.9322 - val_loss: 1.6944 - val_accuracy: 0.5810\n",
            "Epoch 7/10\n",
            "313/313 [==============================] - 31s 98ms/step - loss: 0.1593 - accuracy: 0.9444 - val_loss: 1.7755 - val_accuracy: 0.5839\n",
            "Epoch 8/10\n",
            "313/313 [==============================] - 31s 98ms/step - loss: 0.1398 - accuracy: 0.9524 - val_loss: 1.7626 - val_accuracy: 0.5830\n",
            "Epoch 9/10\n",
            "313/313 [==============================] - 31s 99ms/step - loss: 0.1098 - accuracy: 0.9634 - val_loss: 1.9967 - val_accuracy: 0.5815\n",
            "Epoch 10/10\n",
            "313/313 [==============================] - 31s 99ms/step - loss: 0.1267 - accuracy: 0.9568 - val_loss: 1.9331 - val_accuracy: 0.5811\n"
          ],
          "name": "stdout"
        },
        {
          "output_type": "execute_result",
          "data": {
            "text/plain": [
              "<tensorflow.python.keras.callbacks.History at 0x7fbb4fd4f990>"
            ]
          },
          "metadata": {
            "tags": []
          },
          "execution_count": 94
        }
      ]
    },
    {
      "cell_type": "code",
      "metadata": {
        "id": "Dwpm6v4vUv1R"
      },
      "source": [
        "df_test = pd.read_csv(\"/content/drive/MyDrive/anlp_final/snli_1.0_test.csv\")\n",
        "df_test, class_test = encode_label(df_test)"
      ],
      "execution_count": null,
      "outputs": []
    },
    {
      "cell_type": "code",
      "metadata": {
        "colab": {
          "base_uri": "https://localhost:8080/"
        },
        "id": "xsiHZAOZi63G",
        "outputId": "50a394f4-17fb-4ce3-82a2-0cba07007723"
      },
      "source": [
        "test_data, test_label = create_dataset_for_sequence(df_test, dct)"
      ],
      "execution_count": null,
      "outputs": [
        {
          "output_type": "stream",
          "text": [
            "The number of hits are 219288 and the number of miss are 556\n"
          ],
          "name": "stdout"
        }
      ]
    },
    {
      "cell_type": "code",
      "metadata": {
        "id": "y2XkdiZ0i86t"
      },
      "source": [
        "test_out = model(test_data)"
      ],
      "execution_count": null,
      "outputs": []
    },
    {
      "cell_type": "code",
      "metadata": {
        "id": "nFxV7Rt8jMH7"
      },
      "source": [
        "pred = np.argmax(test_out, axis = 1)"
      ],
      "execution_count": null,
      "outputs": []
    },
    {
      "cell_type": "code",
      "metadata": {
        "colab": {
          "base_uri": "https://localhost:8080/"
        },
        "id": "KFZf4vErjsQA",
        "outputId": "1b39638f-8d1b-459d-f88b-ec572df3703e"
      },
      "source": [
        "np.sum(pred == test_label)/len(pred)"
      ],
      "execution_count": null,
      "outputs": [
        {
          "output_type": "execute_result",
          "data": {
            "text/plain": [
              "0.5946661237785016"
            ]
          },
          "metadata": {
            "tags": []
          },
          "execution_count": 49
        }
      ]
    },
    {
      "cell_type": "markdown",
      "metadata": {
        "id": "4rXN2PwsQIOh"
      },
      "source": [
        "####New features\n"
      ]
    },
    {
      "cell_type": "code",
      "metadata": {
        "id": "Jo4dD6xCQH4t"
      },
      "source": [
        "feat_train = np.load(\"/content/drive/MyDrive/Copy of features_train.npz.npy\")\n",
        "feat_train = feat_train[:30000]\n",
        "feat_val = np.load(\"/content/drive/MyDrive/Copy of features_dev.npz.npy\")"
      ],
      "execution_count": 61,
      "outputs": []
    },
    {
      "cell_type": "code",
      "metadata": {
        "id": "8iUGLtL5QyJT"
      },
      "source": [
        "sc = StandardScaler()\n",
        "feat_train = sc.fit_transform(feat_train)\n",
        "feat_val = sc.fit_transform(feat_val)"
      ],
      "execution_count": 62,
      "outputs": []
    },
    {
      "cell_type": "code",
      "metadata": {
        "id": "Ot17DxmpSDVc"
      },
      "source": [
        "def create_dataset_for_sequence_extra_feature(df, dct, e_feature,  emb_dim = 300, seq_len = 20):\n",
        "  extra = e_feature.shape[1]\n",
        "  sequence_matrix = np.zeros((df.shape[0], (seq_len*2 + extra) ,emb_dim))\n",
        "  hit = 0\n",
        "  miss = 0\n",
        "  for i, (s1, s2) in enumerate(zip(df['sentence1'], df['sentence2'])):\n",
        "    vec1 = np.zeros((seq_len, emb_dim))\n",
        "    vec2 = np.zeros((seq_len+extra, emb_dim))\n",
        "    if isinstance(s1, str) == False:\n",
        "      continue\n",
        "    if isinstance(s2, str) == False:\n",
        "      continue\n",
        "    s1 = s1.lower()\n",
        "    s2 = s2.lower()\n",
        "    s1 = word_tokenize(s1)\n",
        "    s2 = word_tokenize(s2)\n",
        "    for j, (w1, w2) in enumerate(list(itertools.zip_longest(s1, s2, fillvalue='foo'))):\n",
        "      if j>= seq_len:\n",
        "        break\n",
        "      if w1 != \"foo\":\n",
        "        check1 = dct.get(w1)\n",
        "        if check1 is not None:\n",
        "          vec1[j, :] = check1\n",
        "          hit+=1\n",
        "        else:\n",
        "          miss+=1\n",
        "        \n",
        "      if w2 != \"foo\":\n",
        "        check1 = dct.get(w2)\n",
        "        if check1 is not None:\n",
        "          vec2[j, :] = check1\n",
        "          hit+=1\n",
        "        else:\n",
        "          miss+=1\n",
        "    vec2[-extra: , :] = np.repeat(e_feature[i, :], emb_dim).reshape(-1, emb_dim)\n",
        "    sequence_matrix[i, :, :] = np.concatenate((vec1, vec2))\n",
        "  ##\n",
        "  print(f\"The number of hits are {hit} and the number of miss are {miss}\")\n",
        "  labels = df['labels'].values\n",
        "  return sequence_matrix, labels    "
      ],
      "execution_count": 96,
      "outputs": []
    },
    {
      "cell_type": "code",
      "metadata": {
        "colab": {
          "base_uri": "https://localhost:8080/"
        },
        "id": "XD1euduZbcua",
        "outputId": "59836e9a-0b81-4f62-915d-75b96de45011"
      },
      "source": [
        "embedding_matrix, label = create_dataset_for_sequence_extra_feature(df, dct, feat_train ,emb_dim = embedding_dim, seq_len= sentence_len)"
      ],
      "execution_count": 97,
      "outputs": [
        {
          "output_type": "stream",
          "text": [
            "The number of hits are 213651 and the number of miss are 462\n"
          ],
          "name": "stdout"
        }
      ]
    },
    {
      "cell_type": "code",
      "metadata": {
        "colab": {
          "base_uri": "https://localhost:8080/"
        },
        "id": "TxxibSjbc17Q",
        "outputId": "51cfb9c6-1bf0-44c6-aab0-9a51af8c96ca"
      },
      "source": [
        "embedding_matrix.shape"
      ],
      "execution_count": 98,
      "outputs": [
        {
          "output_type": "execute_result",
          "data": {
            "text/plain": [
              "(9988, 46, 300)"
            ]
          },
          "metadata": {
            "tags": []
          },
          "execution_count": 98
        }
      ]
    },
    {
      "cell_type": "code",
      "metadata": {
        "id": "gYK4X6LlgUDt"
      },
      "source": [
        "val_path = \"/content/drive/MyDrive/anlp_final/snli_1.0_dev.csv\"\n",
        "df_val = pd.read_csv(val_path)"
      ],
      "execution_count": 99,
      "outputs": []
    },
    {
      "cell_type": "code",
      "metadata": {
        "id": "aCStbSZHgUD0"
      },
      "source": [
        "df_val, _ = encode_label(df_val)"
      ],
      "execution_count": 100,
      "outputs": []
    },
    {
      "cell_type": "code",
      "metadata": {
        "colab": {
          "base_uri": "https://localhost:8080/"
        },
        "id": "bC3kTDWagUD5",
        "outputId": "70804326-3a72-4691-b0b2-5f11481bc156"
      },
      "source": [
        "val_matrix, val_label = create_dataset_for_sequence_extra_feature(df_val, dct, feat_val)"
      ],
      "execution_count": 101,
      "outputs": [
        {
          "output_type": "stream",
          "text": [
            "The number of hits are 220037 and the number of miss are 514\n"
          ],
          "name": "stdout"
        }
      ]
    },
    {
      "cell_type": "code",
      "metadata": {
        "id": "ql4UK6NfgzSJ"
      },
      "source": [
        "inp = Input(shape = (sentence_len*2 + feat_train.shape[1], embedding_dim))\n",
        "lstm = LSTM(hidden_size)(inp)\n",
        "do = Dropout(drop_out)(lstm)\n",
        "fc = Dense(num_classes)(do)\n",
        "model2 = tf.keras.Model(inputs = inp, outputs = fc)"
      ],
      "execution_count": 104,
      "outputs": []
    },
    {
      "cell_type": "code",
      "metadata": {
        "colab": {
          "base_uri": "https://localhost:8080/"
        },
        "id": "HIFlYgNmkDxC",
        "outputId": "49a9af2e-bf89-426b-958f-2a988f07c3ea"
      },
      "source": [
        "model2.summary()"
      ],
      "execution_count": 106,
      "outputs": [
        {
          "output_type": "stream",
          "text": [
            "Model: \"model_11\"\n",
            "_________________________________________________________________\n",
            "Layer (type)                 Output Shape              Param #   \n",
            "=================================================================\n",
            "input_12 (InputLayer)        [(None, 46, 300)]         0         \n",
            "_________________________________________________________________\n",
            "lstm_11 (LSTM)               (None, 128)               219648    \n",
            "_________________________________________________________________\n",
            "dropout_7 (Dropout)          (None, 128)               0         \n",
            "_________________________________________________________________\n",
            "dense_11 (Dense)             (None, 3)                 387       \n",
            "=================================================================\n",
            "Total params: 220,035\n",
            "Trainable params: 220,035\n",
            "Non-trainable params: 0\n",
            "_________________________________________________________________\n"
          ],
          "name": "stdout"
        }
      ]
    },
    {
      "cell_type": "code",
      "metadata": {
        "id": "vGXjhWaLgoH1"
      },
      "source": [
        "model2.compile(optimizer = 'Adam', loss = tf.keras.losses.SparseCategoricalCrossentropy(from_logits= True), metrics = ['accuracy'])"
      ],
      "execution_count": 107,
      "outputs": []
    },
    {
      "cell_type": "code",
      "metadata": {
        "colab": {
          "base_uri": "https://localhost:8080/"
        },
        "id": "MIlbFlURgoH4",
        "outputId": "b8b24b24-c04c-4c5e-cf16-9579f8063a95"
      },
      "source": [
        "model2.fit(embedding_matrix, label, epochs= epoch, batch_size= batch_size, validation_data=(val_matrix, val_label))"
      ],
      "execution_count": 108,
      "outputs": [
        {
          "output_type": "stream",
          "text": [
            "Epoch 1/10\n",
            "313/313 [==============================] - 37s 113ms/step - loss: 1.0955 - accuracy: 0.4000 - val_loss: 1.0239 - val_accuracy: 0.4626\n",
            "Epoch 2/10\n",
            "313/313 [==============================] - 35s 112ms/step - loss: 1.0386 - accuracy: 0.4611 - val_loss: 1.0004 - val_accuracy: 0.4926\n",
            "Epoch 3/10\n",
            "313/313 [==============================] - 35s 113ms/step - loss: 1.0285 - accuracy: 0.4724 - val_loss: 0.9911 - val_accuracy: 0.5009\n",
            "Epoch 4/10\n",
            "313/313 [==============================] - 35s 112ms/step - loss: 1.0076 - accuracy: 0.4731 - val_loss: 0.9633 - val_accuracy: 0.5224\n",
            "Epoch 5/10\n",
            "313/313 [==============================] - 35s 112ms/step - loss: 0.9777 - accuracy: 0.5153 - val_loss: 0.9700 - val_accuracy: 0.5219\n",
            "Epoch 6/10\n",
            "313/313 [==============================] - 35s 112ms/step - loss: 0.9595 - accuracy: 0.5257 - val_loss: 0.9449 - val_accuracy: 0.5329\n",
            "Epoch 7/10\n",
            "313/313 [==============================] - 35s 113ms/step - loss: 0.9333 - accuracy: 0.5569 - val_loss: 0.9207 - val_accuracy: 0.5635\n",
            "Epoch 8/10\n",
            "313/313 [==============================] - 35s 113ms/step - loss: 0.8905 - accuracy: 0.5780 - val_loss: 0.8761 - val_accuracy: 0.5997\n",
            "Epoch 9/10\n",
            "313/313 [==============================] - 35s 112ms/step - loss: 0.8537 - accuracy: 0.6158 - val_loss: 0.8755 - val_accuracy: 0.6066\n",
            "Epoch 10/10\n",
            "313/313 [==============================] - 35s 112ms/step - loss: 0.8226 - accuracy: 0.6413 - val_loss: 0.8663 - val_accuracy: 0.6146\n"
          ],
          "name": "stdout"
        },
        {
          "output_type": "execute_result",
          "data": {
            "text/plain": [
              "<tensorflow.python.keras.callbacks.History at 0x7fbb4dc027d0>"
            ]
          },
          "metadata": {
            "tags": []
          },
          "execution_count": 108
        }
      ]
    },
    {
      "cell_type": "code",
      "metadata": {
        "colab": {
          "base_uri": "https://localhost:8080/"
        },
        "id": "dRAZvFiwiU9_",
        "outputId": "bef0c822-3209-4812-d606-03c09203a92e"
      },
      "source": [
        "model2.fit(embedding_matrix, label, epochs= epoch, batch_size= batch_size, validation_data=(val_matrix, val_label))"
      ],
      "execution_count": 109,
      "outputs": [
        {
          "output_type": "stream",
          "text": [
            "Epoch 1/10\n",
            "313/313 [==============================] - 36s 115ms/step - loss: 0.7977 - accuracy: 0.6610 - val_loss: 0.8664 - val_accuracy: 0.6181\n",
            "Epoch 2/10\n",
            "313/313 [==============================] - 35s 111ms/step - loss: 0.7731 - accuracy: 0.6774 - val_loss: 0.8682 - val_accuracy: 0.6278\n",
            "Epoch 3/10\n",
            "313/313 [==============================] - 35s 112ms/step - loss: 0.7366 - accuracy: 0.6966 - val_loss: 0.9000 - val_accuracy: 0.6158\n",
            "Epoch 4/10\n",
            "313/313 [==============================] - 35s 112ms/step - loss: 0.7128 - accuracy: 0.7122 - val_loss: 0.8922 - val_accuracy: 0.6175\n",
            "Epoch 5/10\n",
            "313/313 [==============================] - 35s 112ms/step - loss: 0.6812 - accuracy: 0.7302 - val_loss: 0.8883 - val_accuracy: 0.6294\n",
            "Epoch 6/10\n",
            "313/313 [==============================] - 48s 155ms/step - loss: 0.6473 - accuracy: 0.7448 - val_loss: 0.8922 - val_accuracy: 0.6264\n",
            "Epoch 7/10\n",
            "313/313 [==============================] - 38s 122ms/step - loss: 0.6111 - accuracy: 0.7661 - val_loss: 0.9449 - val_accuracy: 0.6225\n",
            "Epoch 8/10\n",
            "313/313 [==============================] - 35s 113ms/step - loss: 0.5736 - accuracy: 0.7840 - val_loss: 0.9212 - val_accuracy: 0.6356\n",
            "Epoch 9/10\n",
            "313/313 [==============================] - 35s 113ms/step - loss: 0.5406 - accuracy: 0.8014 - val_loss: 0.9609 - val_accuracy: 0.6252\n",
            "Epoch 10/10\n",
            "313/313 [==============================] - 35s 112ms/step - loss: 0.5083 - accuracy: 0.8187 - val_loss: 0.9770 - val_accuracy: 0.6205\n"
          ],
          "name": "stdout"
        },
        {
          "output_type": "execute_result",
          "data": {
            "text/plain": [
              "<tensorflow.python.keras.callbacks.History at 0x7fbb4db9bd10>"
            ]
          },
          "metadata": {
            "tags": []
          },
          "execution_count": 109
        }
      ]
    },
    {
      "cell_type": "markdown",
      "metadata": {
        "id": "YtMko11aiWcW"
      },
      "source": [
        "## Edit Distance Thing"
      ]
    },
    {
      "cell_type": "code",
      "metadata": {
        "colab": {
          "base_uri": "https://localhost:8080/"
        },
        "id": "HcIZmxBLiytl",
        "outputId": "b5901dc5-d35e-4fba-fb96-8d22bc6357b5"
      },
      "source": [
        "a = ['a', 'b', 'd']\n",
        "a.index(\"b\")"
      ],
      "execution_count": null,
      "outputs": [
        {
          "output_type": "execute_result",
          "data": {
            "text/plain": [
              "1"
            ]
          },
          "metadata": {
            "tags": []
          },
          "execution_count": 13
        }
      ]
    },
    {
      "cell_type": "code",
      "metadata": {
        "colab": {
          "base_uri": "https://localhost:8080/"
        },
        "id": "spdcvrmh9IKD",
        "outputId": "3266fe29-582f-4873-acb4-760e4ece3960"
      },
      "source": [
        "np.min([2,3,6])"
      ],
      "execution_count": null,
      "outputs": [
        {
          "output_type": "execute_result",
          "data": {
            "text/plain": [
              "2"
            ]
          },
          "metadata": {
            "tags": []
          },
          "execution_count": 24
        }
      ]
    },
    {
      "cell_type": "code",
      "metadata": {
        "id": "7-ZZ6zpcj_36"
      },
      "source": [
        "def edit_dist(str1, str2):\n",
        "  vocab = list(set([i for i in str1+str2]))\n",
        "  chart = np.zeros((len(str1)+2, len(str2)+2))\n",
        "  for count, s in enumerate(str2):\n",
        "    chart[0, count+2] = vocab.index(s)\n",
        "    chart[1, count+2] = count+1\n",
        "  chart[1, count+1] = count\n",
        "  for count, s in enumerate(str1):\n",
        "    chart[count+2, 0] = vocab.index(s)\n",
        "    chart[count+1, 1] = count\n",
        "  chart[count+2, 1] = count+1\n",
        "\n",
        "  for row in range(2, len(str1)+2):\n",
        "    for col in range(2, len(str2)+2):\n",
        "      if chart[0, col] == chart[row, 0]:\n",
        "        chart[row, col] = chart[row-1, col-1]\n",
        "      else:\n",
        "        chart[row, col] = np.min([chart[row-1, col], chart[row-1, col-1], chart[row, col-1]]) + 1\n",
        "  return chart[-1, -1]\n"
      ],
      "execution_count": null,
      "outputs": []
    },
    {
      "cell_type": "code",
      "metadata": {
        "colab": {
          "base_uri": "https://localhost:8080/"
        },
        "id": "NtVFnH-nz62E",
        "outputId": "f71dcc40-7e6b-4c27-8e25-6917983fa21c"
      },
      "source": [
        "edit_dist(\"abcdef\", \"azced\")"
      ],
      "execution_count": null,
      "outputs": [
        {
          "output_type": "execute_result",
          "data": {
            "text/plain": [
              "3.0"
            ]
          },
          "metadata": {
            "tags": []
          },
          "execution_count": 32
        }
      ]
    },
    {
      "cell_type": "code",
      "metadata": {
        "colab": {
          "base_uri": "https://localhost:8080/",
          "height": 206
        },
        "id": "QHAkFaTD0AA4",
        "outputId": "e538a476-7995-4e03-9802-f1eff455fe98"
      },
      "source": [
        "df.head()"
      ],
      "execution_count": null,
      "outputs": [
        {
          "output_type": "execute_result",
          "data": {
            "text/html": [
              "<div>\n",
              "<style scoped>\n",
              "    .dataframe tbody tr th:only-of-type {\n",
              "        vertical-align: middle;\n",
              "    }\n",
              "\n",
              "    .dataframe tbody tr th {\n",
              "        vertical-align: top;\n",
              "    }\n",
              "\n",
              "    .dataframe thead th {\n",
              "        text-align: right;\n",
              "    }\n",
              "</style>\n",
              "<table border=\"1\" class=\"dataframe\">\n",
              "  <thead>\n",
              "    <tr style=\"text-align: right;\">\n",
              "      <th></th>\n",
              "      <th>sentence1</th>\n",
              "      <th>sentence2</th>\n",
              "      <th>labels</th>\n",
              "    </tr>\n",
              "  </thead>\n",
              "  <tbody>\n",
              "    <tr>\n",
              "      <th>0</th>\n",
              "      <td>Two women are embracing while holding to go pa...</td>\n",
              "      <td>The sisters are hugging goodbye while holding ...</td>\n",
              "      <td>2</td>\n",
              "    </tr>\n",
              "    <tr>\n",
              "      <th>1</th>\n",
              "      <td>Two women are embracing while holding to go pa...</td>\n",
              "      <td>Two woman are holding packages.</td>\n",
              "      <td>1</td>\n",
              "    </tr>\n",
              "    <tr>\n",
              "      <th>2</th>\n",
              "      <td>Two women are embracing while holding to go pa...</td>\n",
              "      <td>The men are fighting outside a deli.</td>\n",
              "      <td>0</td>\n",
              "    </tr>\n",
              "    <tr>\n",
              "      <th>3</th>\n",
              "      <td>Two young children in blue jerseys, one with t...</td>\n",
              "      <td>Two kids in numbered jerseys wash their hands.</td>\n",
              "      <td>1</td>\n",
              "    </tr>\n",
              "    <tr>\n",
              "      <th>4</th>\n",
              "      <td>Two young children in blue jerseys, one with t...</td>\n",
              "      <td>Two kids at a ballgame wash their hands.</td>\n",
              "      <td>2</td>\n",
              "    </tr>\n",
              "  </tbody>\n",
              "</table>\n",
              "</div>"
            ],
            "text/plain": [
              "                                           sentence1  ... labels\n",
              "0  Two women are embracing while holding to go pa...  ...      2\n",
              "1  Two women are embracing while holding to go pa...  ...      1\n",
              "2  Two women are embracing while holding to go pa...  ...      0\n",
              "3  Two young children in blue jerseys, one with t...  ...      1\n",
              "4  Two young children in blue jerseys, one with t...  ...      2\n",
              "\n",
              "[5 rows x 3 columns]"
            ]
          },
          "metadata": {
            "tags": []
          },
          "execution_count": 43
        }
      ]
    },
    {
      "cell_type": "code",
      "metadata": {
        "id": "YgE2NpgC_Uz4"
      },
      "source": [
        "edit_distance = []\n",
        "for s1, s2 in zip(df['sentence1'], df['sentence2']):\n",
        "  edit_distance.append(edit_dist(s1, s2))"
      ],
      "execution_count": null,
      "outputs": []
    },
    {
      "cell_type": "code",
      "metadata": {
        "id": "Kw-vO6ca_s3y"
      },
      "source": [
        "edit_distance = np.array(edit_distance)"
      ],
      "execution_count": null,
      "outputs": []
    },
    {
      "cell_type": "code",
      "metadata": {
        "id": "942hj7CtAzYr"
      },
      "source": [
        "np.save(\"/content/drive/MyDrive/anlp_final/edit_dist.npy\", edit_distance)"
      ],
      "execution_count": null,
      "outputs": []
    },
    {
      "cell_type": "code",
      "metadata": {
        "colab": {
          "base_uri": "https://localhost:8080/"
        },
        "id": "oqw4IklsCdez",
        "outputId": "39cabdcc-b46c-4703-9cb4-46eab46c4456"
      },
      "source": [
        "len(edit_distance)"
      ],
      "execution_count": null,
      "outputs": [
        {
          "output_type": "execute_result",
          "data": {
            "text/plain": [
              "9842"
            ]
          },
          "metadata": {
            "tags": []
          },
          "execution_count": 48
        }
      ]
    },
    {
      "cell_type": "code",
      "metadata": {
        "colab": {
          "base_uri": "https://localhost:8080/",
          "height": 562
        },
        "id": "OyHKVXSKChIR",
        "outputId": "9f1cdcd7-a13c-45ca-b7d5-ecc510ef4e1d"
      },
      "source": [
        "plt.hist(edit_distance, bins = 50)"
      ],
      "execution_count": null,
      "outputs": [
        {
          "output_type": "execute_result",
          "data": {
            "text/plain": [
              "(array([9.800e+01, 1.640e+02, 2.600e+02, 6.040e+02, 8.060e+02, 1.157e+03,\n",
              "        1.119e+03, 8.410e+02, 8.430e+02, 5.370e+02, 5.480e+02, 3.890e+02,\n",
              "        5.070e+02, 4.430e+02, 3.330e+02, 2.950e+02, 2.000e+02, 1.560e+02,\n",
              "        1.250e+02, 8.000e+01, 6.200e+01, 5.700e+01, 3.900e+01, 3.000e+01,\n",
              "        2.600e+01, 2.700e+01, 1.100e+01, 1.300e+01, 7.000e+00, 1.000e+01,\n",
              "        8.000e+00, 4.000e+00, 6.000e+00, 7.000e+00, 5.000e+00, 4.000e+00,\n",
              "        2.000e+00, 4.000e+00, 2.000e+00, 2.000e+00, 1.000e+00, 4.000e+00,\n",
              "        1.000e+00, 2.000e+00, 0.000e+00, 0.000e+00, 0.000e+00, 0.000e+00,\n",
              "        2.000e+00, 1.000e+00]),\n",
              " array([  0.  ,   5.58,  11.16,  16.74,  22.32,  27.9 ,  33.48,  39.06,\n",
              "         44.64,  50.22,  55.8 ,  61.38,  66.96,  72.54,  78.12,  83.7 ,\n",
              "         89.28,  94.86, 100.44, 106.02, 111.6 , 117.18, 122.76, 128.34,\n",
              "        133.92, 139.5 , 145.08, 150.66, 156.24, 161.82, 167.4 , 172.98,\n",
              "        178.56, 184.14, 189.72, 195.3 , 200.88, 206.46, 212.04, 217.62,\n",
              "        223.2 , 228.78, 234.36, 239.94, 245.52, 251.1 , 256.68, 262.26,\n",
              "        267.84, 273.42, 279.  ]),\n",
              " <a list of 50 Patch objects>)"
            ]
          },
          "metadata": {
            "tags": []
          },
          "execution_count": 51
        },
        {
          "output_type": "display_data",
          "data": {
            "image/png": "[encoded data removed]",
            "text/plain": [
              "<Figure size 432x288 with 1 Axes>"
            ]
          },
          "metadata": {
            "tags": [],
            "needs_background": "light"
          }
        }
      ]
    },
    {
      "cell_type": "code",
      "metadata": {
        "colab": {
          "base_uri": "https://localhost:8080/",
          "height": 607
        },
        "id": "sBkmEvp4CtGB",
        "outputId": "6b182c08-7865-4211-b628-862eb61621c2"
      },
      "source": [
        "lab = df['labels'].values\n",
        "fig, axs = plt.subplots(1,len(np.unique(lab)) , figsize= (15,8), sharex= True)\n",
        "for i, l in enumerate(np.unique(lab)):\n",
        "  ii = (lab == l)\n",
        "  sns.boxplot(edit_distance[ii], ax = axs[i])"
      ],
      "execution_count": null,
      "outputs": [
        {
          "output_type": "stream",
          "text": [
            "/usr/local/lib/python3.7/dist-packages/seaborn/_decorators.py:43: FutureWarning: Pass the following variable as a keyword arg: x. From version 0.12, the only valid positional argument will be `data`, and passing other arguments without an explicit keyword will result in an error or misinterpretation.\n",
            "  FutureWarning\n",
            "/usr/local/lib/python3.7/dist-packages/seaborn/_decorators.py:43: FutureWarning: Pass the following variable as a keyword arg: x. From version 0.12, the only valid positional argument will be `data`, and passing other arguments without an explicit keyword will result in an error or misinterpretation.\n",
            "  FutureWarning\n",
            "/usr/local/lib/python3.7/dist-packages/seaborn/_decorators.py:43: FutureWarning: Pass the following variable as a keyword arg: x. From version 0.12, the only valid positional argument will be `data`, and passing other arguments without an explicit keyword will result in an error or misinterpretation.\n",
            "  FutureWarning\n"
          ],
          "name": "stderr"
        },
        {
          "output_type": "display_data",
          "data": {
            "image/png": "[encoded data removed]",
            "text/plain": [
              "<Figure size 1080x576 with 3 Axes>"
            ]
          },
          "metadata": {
            "tags": [],
            "needs_background": "light"
          }
        }
      ]
    },
    {
      "cell_type": "code",
      "metadata": {
        "id": "siHFbr4aDejx"
      },
      "source": [
        "df['edit_distance'] = edit_distance"
      ],
      "execution_count": null,
      "outputs": []
    },
    {
      "cell_type": "code",
      "metadata": {
        "colab": {
          "base_uri": "https://localhost:8080/",
          "height": 206
        },
        "id": "1THTq4zDEK0E",
        "outputId": "8be5a6a7-0e92-4fb4-a53c-4dc59ae62395"
      },
      "source": [
        "df.head()"
      ],
      "execution_count": null,
      "outputs": [
        {
          "output_type": "execute_result",
          "data": {
            "text/html": [
              "<div>\n",
              "<style scoped>\n",
              "    .dataframe tbody tr th:only-of-type {\n",
              "        vertical-align: middle;\n",
              "    }\n",
              "\n",
              "    .dataframe tbody tr th {\n",
              "        vertical-align: top;\n",
              "    }\n",
              "\n",
              "    .dataframe thead th {\n",
              "        text-align: right;\n",
              "    }\n",
              "</style>\n",
              "<table border=\"1\" class=\"dataframe\">\n",
              "  <thead>\n",
              "    <tr style=\"text-align: right;\">\n",
              "      <th></th>\n",
              "      <th>sentence1</th>\n",
              "      <th>sentence2</th>\n",
              "      <th>labels</th>\n",
              "      <th>edit_distance</th>\n",
              "    </tr>\n",
              "  </thead>\n",
              "  <tbody>\n",
              "    <tr>\n",
              "      <th>0</th>\n",
              "      <td>Two women are embracing while holding to go pa...</td>\n",
              "      <td>The sisters are hugging goodbye while holding ...</td>\n",
              "      <td>2</td>\n",
              "      <td>46.0</td>\n",
              "    </tr>\n",
              "    <tr>\n",
              "      <th>1</th>\n",
              "      <td>Two women are embracing while holding to go pa...</td>\n",
              "      <td>Two woman are holding packages.</td>\n",
              "      <td>1</td>\n",
              "      <td>23.0</td>\n",
              "    </tr>\n",
              "    <tr>\n",
              "      <th>2</th>\n",
              "      <td>Two women are embracing while holding to go pa...</td>\n",
              "      <td>The men are fighting outside a deli.</td>\n",
              "      <td>0</td>\n",
              "      <td>34.0</td>\n",
              "    </tr>\n",
              "    <tr>\n",
              "      <th>3</th>\n",
              "      <td>Two young children in blue jerseys, one with t...</td>\n",
              "      <td>Two kids in numbered jerseys wash their hands.</td>\n",
              "      <td>1</td>\n",
              "      <td>119.0</td>\n",
              "    </tr>\n",
              "    <tr>\n",
              "      <th>4</th>\n",
              "      <td>Two young children in blue jerseys, one with t...</td>\n",
              "      <td>Two kids at a ballgame wash their hands.</td>\n",
              "      <td>2</td>\n",
              "      <td>126.0</td>\n",
              "    </tr>\n",
              "  </tbody>\n",
              "</table>\n",
              "</div>"
            ],
            "text/plain": [
              "                                           sentence1  ... edit_distance\n",
              "0  Two women are embracing while holding to go pa...  ...          46.0\n",
              "1  Two women are embracing while holding to go pa...  ...          23.0\n",
              "2  Two women are embracing while holding to go pa...  ...          34.0\n",
              "3  Two young children in blue jerseys, one with t...  ...         119.0\n",
              "4  Two young children in blue jerseys, one with t...  ...         126.0\n",
              "\n",
              "[5 rows x 4 columns]"
            ]
          },
          "metadata": {
            "tags": []
          },
          "execution_count": 57
        }
      ]
    },
    {
      "cell_type": "code",
      "metadata": {
        "id": "TvqgkCrpELx8"
      },
      "source": [
        "def create_dataset_for_dot(df, dct, func = 'sum', emb_dim = 300):\n",
        "  dot_products = []\n",
        "  #embedding_matrix = np.zeros((df.shape[0], 2*emb_dim))\n",
        "  hit = 0\n",
        "  miss = 0\n",
        "  for i, (s1, s2) in enumerate(zip(df['sentence1'], df['sentence2'])):\n",
        "    vec1 = []\n",
        "    vec2 = []\n",
        "    s1 = s1.lower()\n",
        "    s2 = s2.lower()\n",
        "    s1 = word_tokenize(s1)\n",
        "    s2 = word_tokenize(s2)\n",
        "    for w1, w2 in list(itertools.zip_longest(s1, s2, fillvalue='foo')):\n",
        "      if w1 != \"foo\":\n",
        "        check1 = dct.get(w1)\n",
        "        if check1 is not None:\n",
        "          vec1.append(check1)\n",
        "          hit+=1\n",
        "        else:\n",
        "          miss+=1\n",
        "        \n",
        "      if w2 != \"foo\":\n",
        "        check1 = dct.get(w2)\n",
        "        if check1 is not None:\n",
        "          vec2.append(check1)\n",
        "          hit+=1\n",
        "        else:\n",
        "          miss+=1\n",
        "    ##\n",
        "    vec1 = np.asarray(vec1)\n",
        "    vec2 = np.asarray(vec2)\n",
        "    if func == \"sum\":\n",
        "      vec1 = np.sum(vec1, axis = 0)\n",
        "      vec2 = np.sum(vec2, axis = 0)\n",
        "    if func == \"mean\":\n",
        "      vec1 = np.mean(vec1, axis = 0)\n",
        "      vec2 = np.mean(vec2, axis = 0)\n",
        "    #print(\"vec1 \", vec1.shape, \"vec2 shape \", vec2.shape, \"i is \", i)\n",
        "    #embedding_matrix[i, :] = np.concatenate((vec1, vec2))\n",
        "    dot_products.append(np.dot(vec1, vec2))\n",
        "  ##\n",
        "  print(f\"The number of hits are {hit} and the number of miss are {miss}\")\n",
        "  labels = df['labels'].values\n",
        "  return dot_products, labels    "
      ],
      "execution_count": null,
      "outputs": []
    },
    {
      "cell_type": "code",
      "metadata": {
        "id": "bGdb_ONyNZrS"
      },
      "source": [
        "def diff_sentences(df):\n",
        "  diff = []\n",
        "  for (s1, s2) in zip(df['sentence1'], df['sentence2']):\n",
        "    s1 = word_tokenize(s1)\n",
        "    s2 = word_tokenize(s2)\n",
        "    np.abs(len(s1)- len(s2))\n",
        "    diff.append(np.abs(len(s1)- len(s2)))\n",
        "  return diff"
      ],
      "execution_count": null,
      "outputs": []
    },
    {
      "cell_type": "code",
      "metadata": {
        "colab": {
          "base_uri": "https://localhost:8080/"
        },
        "id": "6HOkD2H_LwWV",
        "outputId": "b0dca0dd-b19a-4c5d-d9c8-0f2a02325d90"
      },
      "source": [
        "dct = Embedding_dict(\"/content/glove.6B.100d.txt\")"
      ],
      "execution_count": null,
      "outputs": [
        {
          "output_type": "stream",
          "text": [
            "Number of words found are 400000\n"
          ],
          "name": "stdout"
        }
      ]
    },
    {
      "cell_type": "code",
      "metadata": {
        "colab": {
          "base_uri": "https://localhost:8080/"
        },
        "id": "UbGPWK0WMVzH",
        "outputId": "d0576fb6-d35e-4f56-fa16-d79c72cb8104"
      },
      "source": [
        "dot_prod, label = create_dataset_for_dot(df, dct, func= 'mean', emb_dim= 100)"
      ],
      "execution_count": null,
      "outputs": [
        {
          "output_type": "stream",
          "text": [
            "The number of hits are 231113 and the number of miss are 550\n"
          ],
          "name": "stdout"
        }
      ]
    },
    {
      "cell_type": "code",
      "metadata": {
        "id": "0iC9HKQQM5MJ"
      },
      "source": [
        "edit_distance = np.load(\"/content/drive/MyDrive/anlp_final/edit_dist.npy\")"
      ],
      "execution_count": null,
      "outputs": []
    },
    {
      "cell_type": "code",
      "metadata": {
        "id": "GdYXRmvgP_ll"
      },
      "source": [
        "diff = diff_sentences(df)"
      ],
      "execution_count": null,
      "outputs": []
    },
    {
      "cell_type": "code",
      "metadata": {
        "id": "SEsUWtI1NDk4"
      },
      "source": [
        "df['edit_distance'] = edit_distance\n",
        "df['dot_prod'] = dot_prod\n",
        "df['diff'] = diff"
      ],
      "execution_count": null,
      "outputs": []
    },
    {
      "cell_type": "code",
      "metadata": {
        "colab": {
          "base_uri": "https://localhost:8080/",
          "height": 206
        },
        "id": "0vRWRo7FNEhO",
        "outputId": "10b19230-9d3c-4cdd-8ea4-5bacef2845ff"
      },
      "source": [
        "df.head()"
      ],
      "execution_count": null,
      "outputs": [
        {
          "output_type": "execute_result",
          "data": {
            "text/html": [
              "<div>\n",
              "<style scoped>\n",
              "    .dataframe tbody tr th:only-of-type {\n",
              "        vertical-align: middle;\n",
              "    }\n",
              "\n",
              "    .dataframe tbody tr th {\n",
              "        vertical-align: top;\n",
              "    }\n",
              "\n",
              "    .dataframe thead th {\n",
              "        text-align: right;\n",
              "    }\n",
              "</style>\n",
              "<table border=\"1\" class=\"dataframe\">\n",
              "  <thead>\n",
              "    <tr style=\"text-align: right;\">\n",
              "      <th></th>\n",
              "      <th>sentence1</th>\n",
              "      <th>sentence2</th>\n",
              "      <th>labels</th>\n",
              "      <th>edit_distance</th>\n",
              "      <th>dot_prod</th>\n",
              "      <th>diff</th>\n",
              "    </tr>\n",
              "  </thead>\n",
              "  <tbody>\n",
              "    <tr>\n",
              "      <th>0</th>\n",
              "      <td>Two women are embracing while holding to go pa...</td>\n",
              "      <td>The sisters are hugging goodbye while holding ...</td>\n",
              "      <td>2</td>\n",
              "      <td>46.0</td>\n",
              "      <td>15.263969</td>\n",
              "      <td>5</td>\n",
              "    </tr>\n",
              "    <tr>\n",
              "      <th>1</th>\n",
              "      <td>Two women are embracing while holding to go pa...</td>\n",
              "      <td>Two woman are holding packages.</td>\n",
              "      <td>1</td>\n",
              "      <td>23.0</td>\n",
              "      <td>17.412409</td>\n",
              "      <td>4</td>\n",
              "    </tr>\n",
              "    <tr>\n",
              "      <th>2</th>\n",
              "      <td>Two women are embracing while holding to go pa...</td>\n",
              "      <td>The men are fighting outside a deli.</td>\n",
              "      <td>0</td>\n",
              "      <td>34.0</td>\n",
              "      <td>16.280836</td>\n",
              "      <td>2</td>\n",
              "    </tr>\n",
              "    <tr>\n",
              "      <th>3</th>\n",
              "      <td>Two young children in blue jerseys, one with t...</td>\n",
              "      <td>Two kids in numbered jerseys wash their hands.</td>\n",
              "      <td>1</td>\n",
              "      <td>119.0</td>\n",
              "      <td>15.370991</td>\n",
              "      <td>25</td>\n",
              "    </tr>\n",
              "    <tr>\n",
              "      <th>4</th>\n",
              "      <td>Two young children in blue jerseys, one with t...</td>\n",
              "      <td>Two kids at a ballgame wash their hands.</td>\n",
              "      <td>2</td>\n",
              "      <td>126.0</td>\n",
              "      <td>16.407900</td>\n",
              "      <td>25</td>\n",
              "    </tr>\n",
              "  </tbody>\n",
              "</table>\n",
              "</div>"
            ],
            "text/plain": [
              "                                           sentence1  ... diff\n",
              "0  Two women are embracing while holding to go pa...  ...    5\n",
              "1  Two women are embracing while holding to go pa...  ...    4\n",
              "2  Two women are embracing while holding to go pa...  ...    2\n",
              "3  Two young children in blue jerseys, one with t...  ...   25\n",
              "4  Two young children in blue jerseys, one with t...  ...   25\n",
              "\n",
              "[5 rows x 6 columns]"
            ]
          },
          "metadata": {
            "tags": []
          },
          "execution_count": 30
        }
      ]
    },
    {
      "cell_type": "code",
      "metadata": {
        "colab": {
          "base_uri": "https://localhost:8080/",
          "height": 424
        },
        "id": "w_Sr177VRx10",
        "outputId": "17657e70-8463-45c8-dd06-b6b835cc0a12"
      },
      "source": [
        "df.iloc[:, 3:]"
      ],
      "execution_count": null,
      "outputs": [
        {
          "output_type": "execute_result",
          "data": {
            "text/html": [
              "<div>\n",
              "<style scoped>\n",
              "    .dataframe tbody tr th:only-of-type {\n",
              "        vertical-align: middle;\n",
              "    }\n",
              "\n",
              "    .dataframe tbody tr th {\n",
              "        vertical-align: top;\n",
              "    }\n",
              "\n",
              "    .dataframe thead th {\n",
              "        text-align: right;\n",
              "    }\n",
              "</style>\n",
              "<table border=\"1\" class=\"dataframe\">\n",
              "  <thead>\n",
              "    <tr style=\"text-align: right;\">\n",
              "      <th></th>\n",
              "      <th>edit_distance</th>\n",
              "      <th>dot_prod</th>\n",
              "      <th>diff</th>\n",
              "    </tr>\n",
              "  </thead>\n",
              "  <tbody>\n",
              "    <tr>\n",
              "      <th>0</th>\n",
              "      <td>46.0</td>\n",
              "      <td>15.263969</td>\n",
              "      <td>5</td>\n",
              "    </tr>\n",
              "    <tr>\n",
              "      <th>1</th>\n",
              "      <td>23.0</td>\n",
              "      <td>17.412409</td>\n",
              "      <td>4</td>\n",
              "    </tr>\n",
              "    <tr>\n",
              "      <th>2</th>\n",
              "      <td>34.0</td>\n",
              "      <td>16.280836</td>\n",
              "      <td>2</td>\n",
              "    </tr>\n",
              "    <tr>\n",
              "      <th>3</th>\n",
              "      <td>119.0</td>\n",
              "      <td>15.370991</td>\n",
              "      <td>25</td>\n",
              "    </tr>\n",
              "    <tr>\n",
              "      <th>4</th>\n",
              "      <td>126.0</td>\n",
              "      <td>16.407900</td>\n",
              "      <td>25</td>\n",
              "    </tr>\n",
              "    <tr>\n",
              "      <th>...</th>\n",
              "      <td>...</td>\n",
              "      <td>...</td>\n",
              "      <td>...</td>\n",
              "    </tr>\n",
              "    <tr>\n",
              "      <th>9994</th>\n",
              "      <td>47.0</td>\n",
              "      <td>14.721049</td>\n",
              "      <td>8</td>\n",
              "    </tr>\n",
              "    <tr>\n",
              "      <th>9996</th>\n",
              "      <td>41.0</td>\n",
              "      <td>16.556662</td>\n",
              "      <td>3</td>\n",
              "    </tr>\n",
              "    <tr>\n",
              "      <th>9997</th>\n",
              "      <td>130.0</td>\n",
              "      <td>16.469961</td>\n",
              "      <td>28</td>\n",
              "    </tr>\n",
              "    <tr>\n",
              "      <th>9998</th>\n",
              "      <td>127.0</td>\n",
              "      <td>13.714272</td>\n",
              "      <td>27</td>\n",
              "    </tr>\n",
              "    <tr>\n",
              "      <th>9999</th>\n",
              "      <td>106.0</td>\n",
              "      <td>14.853217</td>\n",
              "      <td>16</td>\n",
              "    </tr>\n",
              "  </tbody>\n",
              "</table>\n",
              "<p>9842 rows × 3 columns</p>\n",
              "</div>"
            ],
            "text/plain": [
              "      edit_distance   dot_prod  diff\n",
              "0              46.0  15.263969     5\n",
              "1              23.0  17.412409     4\n",
              "2              34.0  16.280836     2\n",
              "3             119.0  15.370991    25\n",
              "4             126.0  16.407900    25\n",
              "...             ...        ...   ...\n",
              "9994           47.0  14.721049     8\n",
              "9996           41.0  16.556662     3\n",
              "9997          130.0  16.469961    28\n",
              "9998          127.0  13.714272    27\n",
              "9999          106.0  14.853217    16\n",
              "\n",
              "[9842 rows x 3 columns]"
            ]
          },
          "metadata": {
            "tags": []
          },
          "execution_count": 56
        }
      ]
    },
    {
      "cell_type": "code",
      "metadata": {
        "id": "OLfH4DnwNMlI"
      },
      "source": [
        "X = df.iloc[:, 3:].values\n",
        "y = df.iloc[:, 2].values"
      ],
      "execution_count": null,
      "outputs": []
    },
    {
      "cell_type": "code",
      "metadata": {
        "id": "rA1YINEoR-OR"
      },
      "source": [
        "xtr = X[:8000, :]\n",
        "xte = X[8000:, :]\n",
        "ytr = y[:8000]\n",
        "yte = y[8000:]"
      ],
      "execution_count": null,
      "outputs": []
    },
    {
      "cell_type": "code",
      "metadata": {
        "id": "9KyaYg0lU_d2"
      },
      "source": [
        ""
      ],
      "execution_count": null,
      "outputs": []
    },
    {
      "cell_type": "code",
      "metadata": {
        "id": "6OMnZ56gSjek"
      },
      "source": [
        "from sklearn.svm import SVC"
      ],
      "execution_count": null,
      "outputs": []
    },
    {
      "cell_type": "code",
      "metadata": {
        "colab": {
          "base_uri": "https://localhost:8080/"
        },
        "id": "pPTISyO6S2ju",
        "outputId": "9035939d-68e0-4a1c-ac76-2cea52fcddaa"
      },
      "source": [
        "clf = SVC()\n",
        "clf.fit(xtr, ytr)"
      ],
      "execution_count": null,
      "outputs": [
        {
          "output_type": "execute_result",
          "data": {
            "text/plain": [
              "SVC(C=1.0, break_ties=False, cache_size=200, class_weight=None, coef0=0.0,\n",
              "    decision_function_shape='ovr', degree=3, gamma='scale', kernel='rbf',\n",
              "    max_iter=-1, probability=False, random_state=None, shrinking=True,\n",
              "    tol=0.001, verbose=False)"
            ]
          },
          "metadata": {
            "tags": []
          },
          "execution_count": 37
        }
      ]
    },
    {
      "cell_type": "code",
      "metadata": {
        "colab": {
          "base_uri": "https://localhost:8080/"
        },
        "id": "-flcE6wNS808",
        "outputId": "ecc3cabe-a646-4c45-afac-858d1f31c9be"
      },
      "source": [
        "clf.score(xte, yte)"
      ],
      "execution_count": null,
      "outputs": [
        {
          "output_type": "execute_result",
          "data": {
            "text/plain": [
              "0.4218241042345277"
            ]
          },
          "metadata": {
            "tags": []
          },
          "execution_count": 38
        }
      ]
    },
    {
      "cell_type": "code",
      "metadata": {
        "id": "3OZ6NZu-TAFv"
      },
      "source": [
        "from sklearn.ensemble import RandomForestClassifier\n",
        "clf = RandomForestClassifier()"
      ],
      "execution_count": null,
      "outputs": []
    },
    {
      "cell_type": "code",
      "metadata": {
        "colab": {
          "base_uri": "https://localhost:8080/"
        },
        "id": "CY02S193a6Ok",
        "outputId": "ae222734-6a8a-4550-aa03-d2958757c1a4"
      },
      "source": [
        "clf.fit(xtr, ytr)"
      ],
      "execution_count": null,
      "outputs": [
        {
          "output_type": "execute_result",
          "data": {
            "text/plain": [
              "RandomForestClassifier(bootstrap=True, ccp_alpha=0.0, class_weight=None,\n",
              "                       criterion='gini', max_depth=None, max_features='auto',\n",
              "                       max_leaf_nodes=None, max_samples=None,\n",
              "                       min_impurity_decrease=0.0, min_impurity_split=None,\n",
              "                       min_samples_leaf=1, min_samples_split=2,\n",
              "                       min_weight_fraction_leaf=0.0, n_estimators=100,\n",
              "                       n_jobs=None, oob_score=False, random_state=None,\n",
              "                       verbose=0, warm_start=False)"
            ]
          },
          "metadata": {
            "tags": []
          },
          "execution_count": 40
        }
      ]
    },
    {
      "cell_type": "code",
      "metadata": {
        "colab": {
          "base_uri": "https://localhost:8080/"
        },
        "id": "Ip__87KXa87f",
        "outputId": "1bb75a36-a6d1-481b-e04f-c313641d8db9"
      },
      "source": [
        "clf.score(xte, yte)"
      ],
      "execution_count": null,
      "outputs": [
        {
          "output_type": "execute_result",
          "data": {
            "text/plain": [
              "0.38219326818675353"
            ]
          },
          "metadata": {
            "tags": []
          },
          "execution_count": 41
        }
      ]
    },
    {
      "cell_type": "code",
      "metadata": {
        "colab": {
          "base_uri": "https://localhost:8080/"
        },
        "id": "EvmwFkLJd7my",
        "outputId": "84cad1dc-f568-4f08-a867-abcb1307b576"
      },
      "source": [
        "type(dot_prod)"
      ],
      "execution_count": null,
      "outputs": [
        {
          "output_type": "execute_result",
          "data": {
            "text/plain": [
              "list"
            ]
          },
          "metadata": {
            "tags": []
          },
          "execution_count": 43
        }
      ]
    },
    {
      "cell_type": "code",
      "metadata": {
        "id": "bzgzj0f2a_YP"
      },
      "source": [
        "ii = label == 0\n",
        "for_0 = np.array(dot_prod)[ii]\n",
        "ii = label == 1\n",
        "for_1 = np.array(dot_prod)[ii]\n",
        "ii = label == 2\n",
        "for_2 = np.array(dot_prod)[ii]"
      ],
      "execution_count": null,
      "outputs": []
    },
    {
      "cell_type": "code",
      "metadata": {
        "colab": {
          "base_uri": "https://localhost:8080/",
          "height": 625
        },
        "id": "1RrkGUiBd6LK",
        "outputId": "d0445fdd-76f0-4413-ed27-9aaa9ebb4245"
      },
      "source": [
        "fig, axs = plt.subplots(1,3, figsize = (15,8), sharex= True)\n",
        "sns.distplot(for_0, ax = axs[0])\n",
        "sns.distplot(for_1, ax = axs[1])\n",
        "sns.distplot(for_2, ax = axs[2])"
      ],
      "execution_count": null,
      "outputs": [
        {
          "output_type": "stream",
          "text": [
            "/usr/local/lib/python3.7/dist-packages/seaborn/distributions.py:2557: FutureWarning: `distplot` is a deprecated function and will be removed in a future version. Please adapt your code to use either `displot` (a figure-level function with similar flexibility) or `histplot` (an axes-level function for histograms).\n",
            "  warnings.warn(msg, FutureWarning)\n",
            "/usr/local/lib/python3.7/dist-packages/seaborn/distributions.py:2557: FutureWarning: `distplot` is a deprecated function and will be removed in a future version. Please adapt your code to use either `displot` (a figure-level function with similar flexibility) or `histplot` (an axes-level function for histograms).\n",
            "  warnings.warn(msg, FutureWarning)\n",
            "/usr/local/lib/python3.7/dist-packages/seaborn/distributions.py:2557: FutureWarning: `distplot` is a deprecated function and will be removed in a future version. Please adapt your code to use either `displot` (a figure-level function with similar flexibility) or `histplot` (an axes-level function for histograms).\n",
            "  warnings.warn(msg, FutureWarning)\n"
          ],
          "name": "stderr"
        },
        {
          "output_type": "execute_result",
          "data": {
            "text/plain": [
              "<matplotlib.axes._subplots.AxesSubplot at 0x7f6c639f8590>"
            ]
          },
          "metadata": {
            "tags": []
          },
          "execution_count": 53
        },
        {
          "output_type": "display_data",
          "data": {
            "image/png": "[encoded data removed]",
            "text/plain": [
              "<Figure size 1080x576 with 3 Axes>"
            ]
          },
          "metadata": {
            "tags": [],
            "needs_background": "light"
          }
        }
      ]
    },
    {
      "cell_type": "code",
      "metadata": {
        "colab": {
          "base_uri": "https://localhost:8080/"
        },
        "id": "vqmd-8-zeF7G",
        "outputId": "535f9cbe-746a-4dc6-c510-ee3886085fc6"
      },
      "source": [
        "classes_names"
      ],
      "execution_count": null,
      "outputs": [
        {
          "output_type": "execute_result",
          "data": {
            "text/plain": [
              "array(['contradiction', 'entailment', 'neutral'], dtype=object)"
            ]
          },
          "metadata": {
            "tags": []
          },
          "execution_count": 49
        }
      ]
    },
    {
      "cell_type": "code",
      "metadata": {
        "id": "iJxghdDbggsk"
      },
      "source": [
        "ii = label == 0\n",
        "for_0 = np.array(diff)[ii]\n",
        "ii = label == 1\n",
        "for_1 = np.array(diff)[ii]\n",
        "ii = label == 2\n",
        "for_2 = np.array(diff)[ii]"
      ],
      "execution_count": null,
      "outputs": []
    },
    {
      "cell_type": "code",
      "metadata": {
        "id": "ySpLQT_shlyL",
        "colab": {
          "base_uri": "https://localhost:8080/",
          "height": 626
        },
        "outputId": "41cd09ad-ae02-4e2b-fc09-effad887e802"
      },
      "source": [
        "fig, axs = plt.subplots(1,3, figsize = (15,8), sharex= True)\n",
        "sns.distplot(for_0, ax = axs[0])\n",
        "sns.distplot(for_1, ax = axs[1])\n",
        "sns.distplot(for_2, ax = axs[2])"
      ],
      "execution_count": null,
      "outputs": [
        {
          "output_type": "stream",
          "text": [
            "/usr/local/lib/python3.7/dist-packages/seaborn/distributions.py:2557: FutureWarning: `distplot` is a deprecated function and will be removed in a future version. Please adapt your code to use either `displot` (a figure-level function with similar flexibility) or `histplot` (an axes-level function for histograms).\n",
            "  warnings.warn(msg, FutureWarning)\n",
            "/usr/local/lib/python3.7/dist-packages/seaborn/distributions.py:2557: FutureWarning: `distplot` is a deprecated function and will be removed in a future version. Please adapt your code to use either `displot` (a figure-level function with similar flexibility) or `histplot` (an axes-level function for histograms).\n",
            "  warnings.warn(msg, FutureWarning)\n",
            "/usr/local/lib/python3.7/dist-packages/seaborn/distributions.py:2557: FutureWarning: `distplot` is a deprecated function and will be removed in a future version. Please adapt your code to use either `displot` (a figure-level function with similar flexibility) or `histplot` (an axes-level function for histograms).\n",
            "  warnings.warn(msg, FutureWarning)\n"
          ],
          "name": "stderr"
        },
        {
          "output_type": "execute_result",
          "data": {
            "text/plain": [
              "<matplotlib.axes._subplots.AxesSubplot at 0x7f6c6372d850>"
            ]
          },
          "metadata": {
            "tags": []
          },
          "execution_count": 55
        },
        {
          "output_type": "display_data",
          "data": {
            "image/png": "[encoded data removed]",
            "text/plain": [
              "<Figure size 1080x576 with 3 Axes>"
            ]
          },
          "metadata": {
            "tags": [],
            "needs_background": "light"
          }
        }
      ]
    },
    {
      "cell_type": "code",
      "metadata": {
        "colab": {
          "base_uri": "https://localhost:8080/",
          "height": 206
        },
        "id": "3yyyOFv0iieI",
        "outputId": "d4140ff3-68a0-4541-bd5b-06c2b77fe48b"
      },
      "source": [
        "df.head()"
      ],
      "execution_count": null,
      "outputs": [
        {
          "output_type": "execute_result",
          "data": {
            "text/html": [
              "<div>\n",
              "<style scoped>\n",
              "    .dataframe tbody tr th:only-of-type {\n",
              "        vertical-align: middle;\n",
              "    }\n",
              "\n",
              "    .dataframe tbody tr th {\n",
              "        vertical-align: top;\n",
              "    }\n",
              "\n",
              "    .dataframe thead th {\n",
              "        text-align: right;\n",
              "    }\n",
              "</style>\n",
              "<table border=\"1\" class=\"dataframe\">\n",
              "  <thead>\n",
              "    <tr style=\"text-align: right;\">\n",
              "      <th></th>\n",
              "      <th>sentence1</th>\n",
              "      <th>sentence2</th>\n",
              "      <th>labels</th>\n",
              "      <th>edit_distance</th>\n",
              "      <th>dot_prod</th>\n",
              "      <th>diff</th>\n",
              "    </tr>\n",
              "  </thead>\n",
              "  <tbody>\n",
              "    <tr>\n",
              "      <th>0</th>\n",
              "      <td>Two women are embracing while holding to go pa...</td>\n",
              "      <td>The sisters are hugging goodbye while holding ...</td>\n",
              "      <td>2</td>\n",
              "      <td>46.0</td>\n",
              "      <td>15.263969</td>\n",
              "      <td>5</td>\n",
              "    </tr>\n",
              "    <tr>\n",
              "      <th>1</th>\n",
              "      <td>Two women are embracing while holding to go pa...</td>\n",
              "      <td>Two woman are holding packages.</td>\n",
              "      <td>1</td>\n",
              "      <td>23.0</td>\n",
              "      <td>17.412409</td>\n",
              "      <td>4</td>\n",
              "    </tr>\n",
              "    <tr>\n",
              "      <th>2</th>\n",
              "      <td>Two women are embracing while holding to go pa...</td>\n",
              "      <td>The men are fighting outside a deli.</td>\n",
              "      <td>0</td>\n",
              "      <td>34.0</td>\n",
              "      <td>16.280836</td>\n",
              "      <td>2</td>\n",
              "    </tr>\n",
              "    <tr>\n",
              "      <th>3</th>\n",
              "      <td>Two young children in blue jerseys, one with t...</td>\n",
              "      <td>Two kids in numbered jerseys wash their hands.</td>\n",
              "      <td>1</td>\n",
              "      <td>119.0</td>\n",
              "      <td>15.370991</td>\n",
              "      <td>25</td>\n",
              "    </tr>\n",
              "    <tr>\n",
              "      <th>4</th>\n",
              "      <td>Two young children in blue jerseys, one with t...</td>\n",
              "      <td>Two kids at a ballgame wash their hands.</td>\n",
              "      <td>2</td>\n",
              "      <td>126.0</td>\n",
              "      <td>16.407900</td>\n",
              "      <td>25</td>\n",
              "    </tr>\n",
              "  </tbody>\n",
              "</table>\n",
              "</div>"
            ],
            "text/plain": [
              "                                           sentence1  ... diff\n",
              "0  Two women are embracing while holding to go pa...  ...    5\n",
              "1  Two women are embracing while holding to go pa...  ...    4\n",
              "2  Two women are embracing while holding to go pa...  ...    2\n",
              "3  Two young children in blue jerseys, one with t...  ...   25\n",
              "4  Two young children in blue jerseys, one with t...  ...   25\n",
              "\n",
              "[5 rows x 6 columns]"
            ]
          },
          "metadata": {
            "tags": []
          },
          "execution_count": 58
        }
      ]
    },
    {
      "cell_type": "code",
      "metadata": {
        "id": "zWf-YUKlhnPT"
      },
      "source": [
        "from sklearn.preprocessing import StandardScaler\n",
        "scaler = StandardScaler()"
      ],
      "execution_count": null,
      "outputs": []
    },
    {
      "cell_type": "code",
      "metadata": {
        "id": "t0DS56bKin8R"
      },
      "source": [
        "norm = scaler.fit_transform(xtr)"
      ],
      "execution_count": null,
      "outputs": []
    },
    {
      "cell_type": "code",
      "metadata": {
        "id": "ULKPzvrZjQnG"
      },
      "source": [
        "norm_test = scaler.fit_transform(xte)"
      ],
      "execution_count": null,
      "outputs": []
    },
    {
      "cell_type": "code",
      "metadata": {
        "colab": {
          "base_uri": "https://localhost:8080/"
        },
        "id": "FLFUm1Tqi-Ct",
        "outputId": "bb881fc4-0fd8-4bb9-880b-1251e9bb635a"
      },
      "source": [
        "clf = SVC()\n",
        "clf.fit(norm, ytr)"
      ],
      "execution_count": null,
      "outputs": [
        {
          "output_type": "execute_result",
          "data": {
            "text/plain": [
              "SVC(C=1.0, break_ties=False, cache_size=200, class_weight=None, coef0=0.0,\n",
              "    decision_function_shape='ovr', degree=3, gamma='scale', kernel='rbf',\n",
              "    max_iter=-1, probability=False, random_state=None, shrinking=True,\n",
              "    tol=0.001, verbose=False)"
            ]
          },
          "metadata": {
            "tags": []
          },
          "execution_count": 65
        }
      ]
    },
    {
      "cell_type": "code",
      "metadata": {
        "colab": {
          "base_uri": "https://localhost:8080/"
        },
        "id": "6jdE1UyLjLva",
        "outputId": "467460f4-11f6-4e74-9e94-614a670cdac4"
      },
      "source": [
        "clf.score(norm_test, yte)"
      ],
      "execution_count": null,
      "outputs": [
        {
          "output_type": "execute_result",
          "data": {
            "text/plain": [
              "0.43593919652551577"
            ]
          },
          "metadata": {
            "tags": []
          },
          "execution_count": 67
        }
      ]
    },
    {
      "cell_type": "code",
      "metadata": {
        "id": "UA7wEanujb7k"
      },
      "source": [
        ""
      ],
      "execution_count": null,
      "outputs": []
    }
  ]
}